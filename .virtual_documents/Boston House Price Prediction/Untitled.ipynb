


import pandas as pd
import numpy as np

data_url = "http://lib.stat.cmu.edu/datasets/boston"
raw_df = pd.read_csv(data_url, sep="\s+", skiprows=22, header=None)
data = np.hstack([raw_df.values[::2, :], raw_df.values[1::2, :2]])
target = raw_df.values[1::2, 2]

# Create a DataFrame from the fetched data
df = pd.DataFrame(data, columns=['CRIM', 'ZN', 'INDUS', 'CHAS', 'NOX', 'RM', 'AGE', 'DIS', 'RAD', 'TAX', 'PTRATIO', 'B', 'LSTAT'])

# Add the target variable to the DataFrame
df['MEDV'] = target

# Display the first few rows of the DataFrame
print(df.head())


df


df.info()


df.describe()


##check the missing values
df.isnull().sum()
# df.isnull()





df.corr()


%config IPCompleter.greedy=True


df.describe()






