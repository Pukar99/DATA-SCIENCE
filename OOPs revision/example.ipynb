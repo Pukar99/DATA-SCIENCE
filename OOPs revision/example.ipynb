{
 "cells": [
  {
   "cell_type": "code",
   "execution_count": 1,
   "metadata": {},
   "outputs": [
    {
     "name": "stdout",
     "output_type": "stream",
     "text": [
      "Dog is a Canis lupus familiaris and it says Bark\n"
     ]
    }
   ],
   "source": [
    "class Animal:\n",
    "    def __init__ (self, name, species, sound):\n",
    "        self.name = name\n",
    "        self.species = species\n",
    "        self.sound = sound\n",
    "Animal1 = Animal(\"Dog\", \"Canis lupus familiaris\", \"Bark\")\n",
    "Animal2 = Animal(\"Cat\", \"Felis catus\", \"Meow\")\n",
    "Animal3 = Animal(\"Cow\", \"Bos taurus\", \"Moo\")\n",
    "\n",
    "print(Animal1.name, \"is a\", Animal1.species, \"and it says\", Animal1.sound)\n"
   ]
  },
  {
   "cell_type": "code",
   "execution_count": 2,
   "metadata": {},
   "outputs": [],
   "source": [
    "# Lets make a simple neural network using numpy "
   ]
  },
  {
   "cell_type": "code",
   "execution_count": 3,
   "metadata": {},
   "outputs": [],
   "source": [
    "import numpy as np"
   ]
  },
  {
   "cell_type": "code",
   "execution_count": null,
   "metadata": {},
   "outputs": [],
   "source": [
    "class NeuralNetwork:\n",
    "    def __init__ (self,input_size,hidden_size,output_size):\n",
    "        self.input_size = input_size\n",
    "        self.hidden_size = hidden_size\n",
    "        self.output_size = output_size\n",
    "        \n",
    "        self.weights_input_hidden = np.random.randn(self.input_size,self.hidden_size)\n",
    "        self.bias_input_hidden = np.random.randn(1,self.hidden_size)\n",
    "        self.weights_input_output = np.random.randn(self.hidden_size,self.output_size)\n",
    "        self.bias_input_output = np.random.randn(1,self.output_size)\n",
    "        \n",
    "        def sigmoid(self,x):\n",
    "            return 1/(1+np.exp(-x))\n",
    "        def sigmoid_derivative(self,x):\n",
    "            return x*(1-x)\n",
    "        def forward(self,input_data):\n",
    "            self.hidden_output = np.dot(input_data,self.weights_input_hidden) + self.bias_input_hidden\n",
    "            self.hidden_output = self.sigmoid(self.hidden_output)\n",
    "            self.output = np.dot(self.hidden_output,self.weights_input_output) + self.bias_input_output\n",
    "            self.output = self.sigmoid(self.output)"
   ]
  }
 ],
 "metadata": {
  "kernelspec": {
   "display_name": "Python 3",
   "language": "python",
   "name": "python3"
  },
  "language_info": {
   "codemirror_mode": {
    "name": "ipython",
    "version": 3
   },
   "file_extension": ".py",
   "mimetype": "text/x-python",
   "name": "python",
   "nbconvert_exporter": "python",
   "pygments_lexer": "ipython3",
   "version": "3.8.0"
  }
 },
 "nbformat": 4,
 "nbformat_minor": 2
}
