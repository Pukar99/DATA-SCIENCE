{
 "cells": [
  {
   "cell_type": "code",
   "execution_count": 121,
   "id": "260462e5-88cf-4965-91a2-b369201365e2",
   "metadata": {},
   "outputs": [],
   "source": [
    "import numpy as np\n",
    "import matplotlib.pyplot as plt"
   ]
  },
  {
   "cell_type": "code",
   "execution_count": 122,
   "id": "9ba094c9-761e-47be-9b18-f9f6ec2e0c82",
   "metadata": {},
   "outputs": [],
   "source": [
    "observations =1000\n",
    "xs=np.random.uniform(low=-11, high=11, size=(observations,1))\n",
    "zs=np.random.uniform(low=-11, high=111, size=(observations,1))\n",
    "inputs = np.column_stack((xs,zs))"
   ]
  },
  {
   "cell_type": "code",
   "execution_count": 123,
   "id": "53f07a4a-c3bf-45ff-811f-440ce3e1420e",
   "metadata": {},
   "outputs": [
    {
     "data": {
      "text/plain": [
       "(1000, 2)"
      ]
     },
     "execution_count": 123,
     "metadata": {},
     "output_type": "execute_result"
    }
   ],
   "source": [
    "inputs.shape"
   ]
  },
  {
   "cell_type": "code",
   "execution_count": 124,
   "id": "12b8fbb4-a5ed-4930-ab6b-cd9a7edd449a",
   "metadata": {},
   "outputs": [],
   "source": [
    "noise = np.random.uniform(-1,1,(observations,1))\n",
    "target = 3*xs-7*zs+5+noise"
   ]
  },
  {
   "cell_type": "code",
   "execution_count": 125,
   "id": "9ecb43f0-b797-43d5-bbb8-073e671d418f",
   "metadata": {},
   "outputs": [
    {
     "data": {
      "text/plain": [
       "(1000, 1)"
      ]
     },
     "execution_count": 125,
     "metadata": {},
     "output_type": "execute_result"
    }
   ],
   "source": [
    "target.shape"
   ]
  },
  {
   "cell_type": "code",
   "execution_count": 126,
   "id": "4fccf048-9cb9-462e-aa34-2ac62cfa6325",
   "metadata": {},
   "outputs": [],
   "source": [
    "init_range=0.1\n",
    "weights = np.random.uniform(-init_range, init_range, size=(2,1))"
   ]
  },
  {
   "cell_type": "code",
   "execution_count": 127,
   "id": "38e8012e-c618-4bc3-9059-6f235203fb96",
   "metadata": {},
   "outputs": [
    {
     "data": {
      "text/plain": [
       "(2, 1)"
      ]
     },
     "execution_count": 127,
     "metadata": {},
     "output_type": "execute_result"
    }
   ],
   "source": [
    "weights.shape"
   ]
  },
  {
   "cell_type": "code",
   "execution_count": 128,
   "id": "abd7bed3-d37d-4413-986c-4ebfde00d6bc",
   "metadata": {},
   "outputs": [
    {
     "data": {
      "text/plain": [
       "array([[-0.02388905],\n",
       "       [ 0.09608808]])"
      ]
     },
     "execution_count": 128,
     "metadata": {},
     "output_type": "execute_result"
    }
   ],
   "source": [
    "weights"
   ]
  },
  {
   "cell_type": "code",
   "execution_count": 129,
   "id": "4e5e51fd-68a4-4d41-b5d7-912a74386ebc",
   "metadata": {},
   "outputs": [],
   "source": [
    "biases = np.random.uniform(-init_range,init_range, 1)"
   ]
  },
  {
   "cell_type": "code",
   "execution_count": 130,
   "id": "cba4857a-f902-43ba-bbda-5a31dd416463",
   "metadata": {},
   "outputs": [
    {
     "data": {
      "text/plain": [
       "array([-0.08334357])"
      ]
     },
     "execution_count": 130,
     "metadata": {},
     "output_type": "execute_result"
    }
   ],
   "source": [
    "biases"
   ]
  },
  {
   "cell_type": "code",
   "execution_count": 131,
   "id": "9fd14001-2030-47a1-962a-86f067a7b794",
   "metadata": {},
   "outputs": [
    {
     "data": {
      "text/plain": [
       "(1,)"
      ]
     },
     "execution_count": 131,
     "metadata": {},
     "output_type": "execute_result"
    }
   ],
   "source": [
    "biases.shape"
   ]
  },
  {
   "cell_type": "code",
   "execution_count": 132,
   "id": "dc570528-b212-4f0c-a96a-210a24fbde81",
   "metadata": {},
   "outputs": [],
   "source": [
    "learning_rate=0.02"
   ]
  },
  {
   "cell_type": "markdown",
   "id": "b0bbe191-ffe9-4e06-a4bb-fa3fb7c992a8",
   "metadata": {},
   "source": [
    "lets train the model "
   ]
  },
  {
   "cell_type": "code",
   "execution_count": 133,
   "id": "48e39012-07fb-4fef-806a-119838d0563e",
   "metadata": {},
   "outputs": [
    {
     "name": "stdout",
     "output_type": "stream",
     "text": [
      "Epoch 1: Loss = 92887.02484681077\n",
      "Epoch 2: Loss = 533379168.3522443\n",
      "Epoch 3: Loss = 2990322676335.169\n",
      "Epoch 4: Loss = 1.675913550617491e+16\n",
      "Epoch 5: Loss = 9.392542793472197e+19\n",
      "Epoch 6: Loss = 5.263986003292297e+23\n",
      "Epoch 7: Loss = 2.9501647455338894e+27\n",
      "Epoch 8: Loss = 1.653399537964681e+31\n",
      "Epoch 9: Loss = 9.26636397604539e+34\n",
      "Epoch 10: Loss = 5.193269948668962e+38\n",
      "Epoch 11: Loss = 2.910532419131056e+42\n",
      "Epoch 12: Loss = 1.6311878732558489e+46\n",
      "Epoch 13: Loss = 9.141880229086479e+49\n",
      "Epoch 14: Loss = 5.123503888987889e+53\n",
      "Epoch 15: Loss = 2.871432510891373e+57\n",
      "Epoch 16: Loss = 1.6092745986443883e+61\n",
      "Epoch 17: Loss = 9.019068788902566e+64\n",
      "Epoch 18: Loss = 5.054675062135329e+68\n",
      "Epoch 19: Loss = 2.832857868343377e+72\n",
      "Epoch 20: Loss = 1.5876557055766166e+76\n",
      "Epoch 21: Loss = 8.897907189830289e+79\n",
      "Epoch 22: Loss = 4.986770877384848e+83\n",
      "Epoch 23: Loss = 2.7948014351010475e+87\n",
      "Epoch 24: Loss = 1.5663272393495379e+91\n",
      "Epoch 25: Loss = 8.778373268008712e+94\n",
      "Epoch 26: Loss = 4.919778913152989e+98\n",
      "Epoch 27: Loss = 2.7572562495733665e+102\n",
      "Epoch 28: Loss = 1.5452852983873493e+106\n",
      "Epoch 29: Loss = 8.660445157324638e+109\n",
      "Epoch 30: Loss = 4.8536869147270606e+113\n",
      "Epoch 31: Loss = 2.7202154436909145e+117\n",
      "Epoch 32: Loss = 1.5245260335277883e+121\n",
      "Epoch 33: Loss = 8.544101285412939e+124\n",
      "Epoch 34: Loss = 4.7884827920234026e+128\n",
      "Epoch 35: Loss = 2.6836722416494708e+132\n",
      "Epoch 36: Loss = 1.5040456473179858e+136\n",
      "Epoch 37: Loss = 8.42932036971025e+139\n",
      "Epoch 38: Loss = 4.72415461737579e+143\n",
      "Epoch 39: Loss = 2.6476199586705347e+147\n",
      "Epoch 40: Loss = 1.4838403933198287e+151\n",
      "Epoch 41: Loss = 8.316081413561835e+154\n",
      "Epoch 42: Loss = 4.660690623353486e+158\n",
      "Epoch 43: Loss = 2.612051999778507e+162\n",
      "Epoch 44: Loss = 1.4639065754245891e+166\n",
      "Epoch 45: Loss = 8.204363702380613e+169\n",
      "Epoch 46: Loss = 4.598079200608665e+173\n",
      "Epoch 47: Loss = 2.5769618585942576e+177\n",
      "Epoch 48: Loss = 1.444240547176856e+181\n",
      "Epoch 49: Loss = 8.094146799858072e+184\n",
      "Epoch 50: Loss = 4.5363088957528045e+188\n",
      "Epoch 51: Loss = 2.542343116144967e+192\n",
      "Epoch 52: Loss = 1.424838711107455e+196\n",
      "Epoch 53: Loss = 7.985410544225662e+199\n",
      "Epoch 54: Loss = 4.475368409261399e+203\n",
      "Epoch 55: Loss = 2.5081894396898705e+207\n",
      "Epoch 56: Loss = 1.4056975180753943e+211\n",
      "Epoch 57: Loss = 7.878135044566853e+214\n",
      "Epoch 58: Loss = 4.415246593407131e+218\n",
      "Epoch 59: Loss = 2.474494581561852e+222\n",
      "Epoch 60: Loss = 1.3868134666186144e+226\n",
      "Epoch 61: Loss = 7.772300677178355e+229\n",
      "Epoch 62: Loss = 4.355932450220445e+233\n",
      "Epoch 63: Loss = 2.441252378024553e+237\n",
      "Epoch 64: Loss = 1.3681831023134714e+241\n",
      "Epoch 65: Loss = 7.667888081980528e+244\n",
      "Epoch 66: Loss = 4.2974151294778976e+248\n",
      "Epoch 67: Loss = 2.408456748144856e+252\n",
      "Epoch 68: Loss = 1.3498030171428264e+256\n",
      "Epoch 69: Loss = 7.564878158975765e+259\n",
      "Epoch 70: Loss = 4.2396839267172207e+263\n",
      "Epoch 71: Loss = 2.376101692680532e+267\n",
      "Epoch 72: Loss = 1.3316698488726429e+271\n",
      "Epoch 73: Loss = 7.463252064754592e+274\n",
      "Epoch 74: Loss = 4.1827282812791754e+278\n",
      "Epoch 75: Loss = 2.3441812929827623e+282\n",
      "Epoch 76: Loss = 1.3137802804369032e+286\n",
      "Epoch 77: Loss = 7.362991209048773e+289\n",
      "Epoch 78: Loss = 4.126537774375847e+293\n",
      "Epoch 79: Loss = 2.312689709913513e+297\n",
      "Epoch 80: Loss = 1.296131039330863e+301\n",
      "Epoch 81: Loss = 7.264077251330593e+304\n",
      "Epoch 82: Loss = inf\n",
      "Epoch 83: Loss = inf\n",
      "Epoch 84: Loss = inf\n",
      "Epoch 85: Loss = inf\n",
      "Epoch 86: Loss = inf\n",
      "Epoch 87: Loss = inf\n",
      "Epoch 88: Loss = inf\n",
      "Epoch 89: Loss = inf\n",
      "Epoch 90: Loss = inf\n",
      "Epoch 91: Loss = inf\n",
      "Epoch 92: Loss = inf\n",
      "Epoch 93: Loss = inf\n",
      "Epoch 94: Loss = inf\n",
      "Epoch 95: Loss = inf\n",
      "Epoch 96: Loss = inf\n",
      "Epoch 97: Loss = inf\n",
      "Epoch 98: Loss = inf\n",
      "Epoch 99: Loss = inf\n",
      "Epoch 100: Loss = inf\n"
     ]
    },
    {
     "name": "stderr",
     "output_type": "stream",
     "text": [
      "C:\\Users\\hp\\AppData\\Local\\Temp\\ipykernel_16540\\1012994021.py:9: RuntimeWarning: overflow encountered in square\n",
      "  loss = np.sum(deltas ** 2)/ (2*observations)\n"
     ]
    }
   ],
   "source": [
    " # Training loop\n",
    "num_epochs = 100\n",
    "for epoch in range(1, num_epochs + 1):\n",
    "    # Forward pass\n",
    "    outputs = np.dot(inputs, weights) + biases\n",
    "    \n",
    "    # Calculate loss\n",
    "    deltas = outputs - target\n",
    "    loss = np.sum(deltas ** 2)/ (2*observations)\n",
    "    print(f\"Epoch {epoch}: Loss = {loss}\")\n",
    "    \n",
    "    # Backpropagation\n",
    "    deltas_scaled = deltas /observations\n",
    "    weights = learning_rate * np.dot(inputs.T, deltas_scaled)\n",
    "    biases = learning_rate * np.sum(deltas_scaled)"
   ]
  },
  {
   "cell_type": "code",
   "execution_count": null,
   "id": "b7b055ac-d1b5-4a64-899b-0f7b1b7ee6c3",
   "metadata": {},
   "outputs": [],
   "source": []
  },
  {
   "cell_type": "code",
   "execution_count": null,
   "id": "2aeb5873-9611-48cf-9ed4-26acc29a2b66",
   "metadata": {},
   "outputs": [],
   "source": []
  }
 ],
 "metadata": {
  "kernelspec": {
   "display_name": "Python 3 (ipykernel)",
   "language": "python",
   "name": "python3"
  },
  "language_info": {
   "codemirror_mode": {
    "name": "ipython",
    "version": 3
   },
   "file_extension": ".py",
   "mimetype": "text/x-python",
   "name": "python",
   "nbconvert_exporter": "python",
   "pygments_lexer": "ipython3",
   "version": "3.8.0"
  }
 },
 "nbformat": 4,
 "nbformat_minor": 5
}
