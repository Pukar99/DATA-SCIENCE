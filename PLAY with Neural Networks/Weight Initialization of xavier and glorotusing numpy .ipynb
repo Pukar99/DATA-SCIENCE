{
 "cells": [
  {
   "cell_type": "code",
   "execution_count": 1,
   "id": "cc8e7d9b-2542-493d-bae0-920ded11bfb9",
   "metadata": {},
   "outputs": [],
   "source": [
    "# lets import the libraries"
   ]
  },
  {
   "cell_type": "code",
   "execution_count": 2,
   "id": "9dedf78f-9c13-4c43-ad13-8694302c4c11",
   "metadata": {},
   "outputs": [],
   "source": [
    "import numpy as np"
   ]
  },
  {
   "cell_type": "code",
   "execution_count": 3,
   "id": "0ad5b17e-55da-4387-bd3c-63e1e14a531b",
   "metadata": {},
   "outputs": [],
   "source": [
    "class WI:\n",
    "    @staticmethod\n",
    "    def xav(shape):\n",
    "        if len(shape)==1:\n",
    "            fin=shape[0]\n",
    "        else:\n",
    "            fin=np.prod(shape[:-1])\n",
    "        variance = 2.0/(fin+shape[-1])\n",
    "        std_dev = np.sqrt(variance)\n",
    "        return np.random.normal(0,std_dev,shape)"
   ]
  },
  {
   "cell_type": "code",
   "execution_count": 6,
   "id": "740b7ec5-2b85-4b6b-9784-f4863cb216a5",
   "metadata": {},
   "outputs": [
    {
     "name": "stdin",
     "output_type": "stream",
     "text": [
      "Enter the number of neurons in the input layer(fin): 3\n",
      "Enter the number of neurons in the output layer(fout): 4\n"
     ]
    },
    {
     "name": "stdout",
     "output_type": "stream",
     "text": [
      "The weight using xavier/glorot intitalization is  [[-0.64154045 -0.35309021 -0.1649619   0.52089114]\n",
      " [-0.38135023  0.81662062  0.24274005 -0.01294649]\n",
      " [ 0.32050115 -0.14577849 -0.08323153 -0.39005087]]\n"
     ]
    }
   ],
   "source": [
    "in_shape = int(input(\"Enter the number of neurons in the input layer(fin):\"))\n",
    "out_shape = int(input(\"Enter the number of neurons in the output layer(fout):\"))\n",
    "shape = (in_shape,out_shape)\n",
    "weights_xavier = WI.xav(shape)\n",
    "print('The weight using xavier/glorot intitalization is ',weights_xavier)"
   ]
  },
  {
   "cell_type": "code",
   "execution_count": null,
   "id": "cd9e2380-4d4d-4805-848c-e4caba850c6c",
   "metadata": {},
   "outputs": [],
   "source": []
  }
 ],
 "metadata": {
  "kernelspec": {
   "display_name": "Python 3 (ipykernel)",
   "language": "python",
   "name": "python3"
  },
  "language_info": {
   "codemirror_mode": {
    "name": "ipython",
    "version": 3
   },
   "file_extension": ".py",
   "mimetype": "text/x-python",
   "name": "python",
   "nbconvert_exporter": "python",
   "pygments_lexer": "ipython3",
   "version": "3.8.0"
  }
 },
 "nbformat": 4,
 "nbformat_minor": 5
}
