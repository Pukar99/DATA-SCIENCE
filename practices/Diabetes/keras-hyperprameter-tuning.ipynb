{
 "cells": [
  {
   "cell_type": "code",
   "execution_count": 1,
   "id": "390a1711-7db5-4aac-8956-adb30c7f7a81",
   "metadata": {},
   "outputs": [],
   "source": [
    "import numpy as np\n",
    "import pandas as pd\n"
   ]
  },
  {
   "cell_type": "code",
   "execution_count": 2,
   "id": "908ef385-5840-46d6-a6eb-cc6e1c737096",
   "metadata": {},
   "outputs": [],
   "source": [
    "df = pd.read_csv('diabetes.csv')"
   ]
  },
  {
   "cell_type": "code",
   "execution_count": 3,
   "id": "edbe961a-9b95-4b25-8b6b-8775effbdfe0",
   "metadata": {},
   "outputs": [
    {
     "data": {
      "text/html": [
       "<div>\n",
       "<style scoped>\n",
       "    .dataframe tbody tr th:only-of-type {\n",
       "        vertical-align: middle;\n",
       "    }\n",
       "\n",
       "    .dataframe tbody tr th {\n",
       "        vertical-align: top;\n",
       "    }\n",
       "\n",
       "    .dataframe thead th {\n",
       "        text-align: right;\n",
       "    }\n",
       "</style>\n",
       "<table border=\"1\" class=\"dataframe\">\n",
       "  <thead>\n",
       "    <tr style=\"text-align: right;\">\n",
       "      <th></th>\n",
       "      <th>Pregnancies</th>\n",
       "      <th>Glucose</th>\n",
       "      <th>BloodPressure</th>\n",
       "      <th>SkinThickness</th>\n",
       "      <th>Insulin</th>\n",
       "      <th>BMI</th>\n",
       "      <th>DiabetesPedigreeFunction</th>\n",
       "      <th>Age</th>\n",
       "      <th>Outcome</th>\n",
       "    </tr>\n",
       "  </thead>\n",
       "  <tbody>\n",
       "    <tr>\n",
       "      <th>0</th>\n",
       "      <td>6</td>\n",
       "      <td>148</td>\n",
       "      <td>72</td>\n",
       "      <td>35</td>\n",
       "      <td>0</td>\n",
       "      <td>33.6</td>\n",
       "      <td>0.627</td>\n",
       "      <td>50</td>\n",
       "      <td>1</td>\n",
       "    </tr>\n",
       "    <tr>\n",
       "      <th>1</th>\n",
       "      <td>1</td>\n",
       "      <td>85</td>\n",
       "      <td>66</td>\n",
       "      <td>29</td>\n",
       "      <td>0</td>\n",
       "      <td>26.6</td>\n",
       "      <td>0.351</td>\n",
       "      <td>31</td>\n",
       "      <td>0</td>\n",
       "    </tr>\n",
       "    <tr>\n",
       "      <th>2</th>\n",
       "      <td>8</td>\n",
       "      <td>183</td>\n",
       "      <td>64</td>\n",
       "      <td>0</td>\n",
       "      <td>0</td>\n",
       "      <td>23.3</td>\n",
       "      <td>0.672</td>\n",
       "      <td>32</td>\n",
       "      <td>1</td>\n",
       "    </tr>\n",
       "    <tr>\n",
       "      <th>3</th>\n",
       "      <td>1</td>\n",
       "      <td>89</td>\n",
       "      <td>66</td>\n",
       "      <td>23</td>\n",
       "      <td>94</td>\n",
       "      <td>28.1</td>\n",
       "      <td>0.167</td>\n",
       "      <td>21</td>\n",
       "      <td>0</td>\n",
       "    </tr>\n",
       "    <tr>\n",
       "      <th>4</th>\n",
       "      <td>0</td>\n",
       "      <td>137</td>\n",
       "      <td>40</td>\n",
       "      <td>35</td>\n",
       "      <td>168</td>\n",
       "      <td>43.1</td>\n",
       "      <td>2.288</td>\n",
       "      <td>33</td>\n",
       "      <td>1</td>\n",
       "    </tr>\n",
       "  </tbody>\n",
       "</table>\n",
       "</div>"
      ],
      "text/plain": [
       "   Pregnancies  Glucose  BloodPressure  SkinThickness  Insulin   BMI  \\\n",
       "0            6      148             72             35        0  33.6   \n",
       "1            1       85             66             29        0  26.6   \n",
       "2            8      183             64              0        0  23.3   \n",
       "3            1       89             66             23       94  28.1   \n",
       "4            0      137             40             35      168  43.1   \n",
       "\n",
       "   DiabetesPedigreeFunction  Age  Outcome  \n",
       "0                     0.627   50        1  \n",
       "1                     0.351   31        0  \n",
       "2                     0.672   32        1  \n",
       "3                     0.167   21        0  \n",
       "4                     2.288   33        1  "
      ]
     },
     "execution_count": 3,
     "metadata": {},
     "output_type": "execute_result"
    }
   ],
   "source": [
    "df.head()"
   ]
  },
  {
   "cell_type": "code",
   "execution_count": 4,
   "id": "2386a130-c2f2-48a1-843c-581b968e4562",
   "metadata": {},
   "outputs": [
    {
     "data": {
      "text/plain": [
       "Pregnancies                 0.221898\n",
       "Glucose                     0.466581\n",
       "BloodPressure               0.065068\n",
       "SkinThickness               0.074752\n",
       "Insulin                     0.130548\n",
       "BMI                         0.292695\n",
       "DiabetesPedigreeFunction    0.173844\n",
       "Age                         0.238356\n",
       "Outcome                     1.000000\n",
       "Name: Outcome, dtype: float64"
      ]
     },
     "execution_count": 4,
     "metadata": {},
     "output_type": "execute_result"
    }
   ],
   "source": [
    "df.corr()['Outcome']"
   ]
  },
  {
   "cell_type": "code",
   "execution_count": 5,
   "id": "c5a4ebd2-3e6d-47f2-a53f-b73a98d98302",
   "metadata": {},
   "outputs": [],
   "source": [
    "X = df.iloc[:,:-1].values\n",
    "y = df.iloc[:,-1].values"
   ]
  },
  {
   "cell_type": "code",
   "execution_count": 6,
   "id": "da256d0d-25c5-438b-b40c-bbe1821455ad",
   "metadata": {},
   "outputs": [],
   "source": [
    "from sklearn.preprocessing import StandardScaler\n",
    "scaler = StandardScaler()"
   ]
  },
  {
   "cell_type": "code",
   "execution_count": 7,
   "id": "25ca7dfe-630c-4d4e-8086-0491c05fc29e",
   "metadata": {},
   "outputs": [],
   "source": [
    "X = scaler.fit_transform(X)"
   ]
  },
  {
   "cell_type": "code",
   "execution_count": 8,
   "id": "b0a2f615-5515-49dd-a69a-303cc9624bc5",
   "metadata": {},
   "outputs": [
    {
     "data": {
      "text/plain": [
       "(768, 8)"
      ]
     },
     "execution_count": 8,
     "metadata": {},
     "output_type": "execute_result"
    }
   ],
   "source": [
    "X.shape"
   ]
  },
  {
   "cell_type": "code",
   "execution_count": 9,
   "id": "00b864f9-ec18-4cb4-8767-8ab71831f504",
   "metadata": {},
   "outputs": [],
   "source": [
    "from sklearn.model_selection import train_test_split\n",
    "X_train,X_test, y_train, y_test = train_test_split(X,y,test_size=0.2,random_state=1)"
   ]
  },
  {
   "cell_type": "code",
   "execution_count": 10,
   "id": "a2b6a74d-6169-452d-8f83-b8c7282fcf00",
   "metadata": {},
   "outputs": [],
   "source": [
    "import tensorflow \n",
    "from tensorflow import keras\n",
    "from keras import Sequential \n",
    "from keras.layers import Dense"
   ]
  },
  {
   "cell_type": "code",
   "execution_count": 11,
   "id": "975a2499-4585-4c34-9f63-e99e32b8c740",
   "metadata": {},
   "outputs": [],
   "source": [
    "model = Sequential()\n",
    "model.add(Dense(32,activation='relu',input_dim=8))\n",
    "model.add(Dense(1,activation='sigmoid'))\n",
    "model.compile(optimizer='Adam',loss='binary_crossentropy',metrics=['accuracy'])"
   ]
  },
  {
   "cell_type": "code",
   "execution_count": 12,
   "id": "6a9a07e5-ec78-4fce-b23a-e5a88b572af7",
   "metadata": {},
   "outputs": [
    {
     "name": "stdout",
     "output_type": "stream",
     "text": [
      "Epoch 1/10\n",
      "20/20 [==============================] - 1s 14ms/step - loss: 0.6599 - accuracy: 0.6287 - val_loss: 0.6711 - val_accuracy: 0.5649\n",
      "Epoch 2/10\n",
      "20/20 [==============================] - 0s 3ms/step - loss: 0.6121 - accuracy: 0.6873 - val_loss: 0.6258 - val_accuracy: 0.6623\n",
      "Epoch 3/10\n",
      "20/20 [==============================] - 0s 3ms/step - loss: 0.5796 - accuracy: 0.7117 - val_loss: 0.5951 - val_accuracy: 0.7273\n",
      "Epoch 4/10\n",
      "20/20 [==============================] - 0s 4ms/step - loss: 0.5551 - accuracy: 0.7248 - val_loss: 0.5681 - val_accuracy: 0.7468\n",
      "Epoch 5/10\n",
      "20/20 [==============================] - 0s 3ms/step - loss: 0.5350 - accuracy: 0.7410 - val_loss: 0.5470 - val_accuracy: 0.7662\n",
      "Epoch 6/10\n",
      "20/20 [==============================] - 0s 3ms/step - loss: 0.5196 - accuracy: 0.7508 - val_loss: 0.5314 - val_accuracy: 0.7532\n",
      "Epoch 7/10\n",
      "20/20 [==============================] - 0s 3ms/step - loss: 0.5075 - accuracy: 0.7606 - val_loss: 0.5199 - val_accuracy: 0.7532\n",
      "Epoch 8/10\n",
      "20/20 [==============================] - 0s 4ms/step - loss: 0.4980 - accuracy: 0.7638 - val_loss: 0.5105 - val_accuracy: 0.7597\n",
      "Epoch 9/10\n",
      "20/20 [==============================] - 0s 3ms/step - loss: 0.4893 - accuracy: 0.7655 - val_loss: 0.5026 - val_accuracy: 0.7597\n",
      "Epoch 10/10\n",
      "20/20 [==============================] - 0s 3ms/step - loss: 0.4838 - accuracy: 0.7671 - val_loss: 0.4965 - val_accuracy: 0.7597\n"
     ]
    },
    {
     "data": {
      "text/plain": [
       "<keras.src.callbacks.History at 0x202e4c7cf10>"
      ]
     },
     "execution_count": 12,
     "metadata": {},
     "output_type": "execute_result"
    }
   ],
   "source": [
    "model.fit(X_train,y_train, batch_size=32,epochs=10,validation_data=(X_test,y_test))"
   ]
  },
  {
   "cell_type": "markdown",
   "id": "9292cb5e-ca20-4390-ab7c-ed68c4f79a87",
   "metadata": {
    "editable": true,
    "slideshow": {
     "slide_type": ""
    },
    "tags": []
   },
   "source": [
    "## what's the keras hyperparameter tuing does :\n",
    "#### 1. how to select appropriate optimizer\n",
    "#### 2. No. of nodes in a layer\n",
    "#### 3. how to select no. of layers\n",
    "#### 4. All in all one model "
   ]
  },
  {
   "cell_type": "code",
   "execution_count": 13,
   "id": "66880d9b-a582-4325-812b-09f93dbc2b25",
   "metadata": {},
   "outputs": [
    {
     "name": "stderr",
     "output_type": "stream",
     "text": [
      "C:\\Users\\hp\\AppData\\Local\\Temp\\ipykernel_11600\\1654478174.py:1: DeprecationWarning: `import kerastuner` is deprecated, please use `import keras_tuner`.\n",
      "  import kerastuner as kt\n"
     ]
    }
   ],
   "source": [
    "import kerastuner as kt"
   ]
  },
  {
   "cell_type": "code",
   "execution_count": 14,
   "id": "340d828c-1009-493e-8bd2-1085708f4d26",
   "metadata": {},
   "outputs": [],
   "source": [
    "def build_model(hp):\n",
    "    model = Sequential() \n",
    "    model.add(Dense(32,activation='relu',input_dim=8))\n",
    "    model.add(Dense(1,activation='sigmoid'))\n",
    "    optimizer = hp.Choice('optimizer', values=['adam','sgd','rmsprop','adadelta'])\n",
    "    model.compile(optimizer=optimizer,loss='binary_crossentropy',metrics=['accuracy'])\n",
    "    return model"
   ]
  },
  {
   "cell_type": "code",
   "execution_count": 15,
   "id": "2769350b-4098-4171-9f3b-91122e3d958f",
   "metadata": {},
   "outputs": [
    {
     "name": "stdout",
     "output_type": "stream",
     "text": [
      "Reloading Tuner from .\\untitled_project\\tuner0.json\n"
     ]
    }
   ],
   "source": [
    "tuner = kt.RandomSearch(build_model,\n",
    "                        objective='val_accuracy',\n",
    "                        max_trials=5)"
   ]
  },
  {
   "cell_type": "code",
   "execution_count": 16,
   "id": "8ad238d8-2752-4a6a-8dce-517df72404c4",
   "metadata": {},
   "outputs": [],
   "source": [
    "tuner.search(X_train,y_train,\n",
    "             epochs =5,\n",
    "             validation_data=(X_test, y_test))"
   ]
  },
  {
   "cell_type": "code",
   "execution_count": 17,
   "id": "5a3a7ae4-647b-4ea9-a970-c18e54b53e26",
   "metadata": {
    "editable": true,
    "slideshow": {
     "slide_type": ""
    },
    "tags": []
   },
   "outputs": [],
   "source": [
    "best_hyperparameters = tuner.get_best_hyperparameters(num_trials=1)[0].values"
   ]
  },
  {
   "cell_type": "code",
   "execution_count": 18,
   "id": "b0738543-343c-4c85-b12c-60ce6af6b55e",
   "metadata": {},
   "outputs": [
    {
     "data": {
      "text/plain": [
       "{'optimizer': 'rmsprop'}"
      ]
     },
     "execution_count": 18,
     "metadata": {},
     "output_type": "execute_result"
    }
   ],
   "source": [
    "best_hyperparameters"
   ]
  },
  {
   "cell_type": "code",
   "execution_count": 19,
   "id": "d960ffaf-e08e-4687-8ebc-f97ed29d42bf",
   "metadata": {},
   "outputs": [],
   "source": [
    "model = tuner.get_best_models(num_models=1)[0]"
   ]
  },
  {
   "cell_type": "code",
   "execution_count": 20,
   "id": "dacb419f-ae52-47d3-a6a6-8179a119df4d",
   "metadata": {},
   "outputs": [
    {
     "name": "stdout",
     "output_type": "stream",
     "text": [
      "Model: \"sequential\"\n",
      "_________________________________________________________________\n",
      " Layer (type)                Output Shape              Param #   \n",
      "=================================================================\n",
      " dense (Dense)               (None, 32)                288       \n",
      "                                                                 \n",
      " dense_1 (Dense)             (None, 1)                 33        \n",
      "                                                                 \n",
      "=================================================================\n",
      "Total params: 321 (1.25 KB)\n",
      "Trainable params: 321 (1.25 KB)\n",
      "Non-trainable params: 0 (0.00 Byte)\n",
      "_________________________________________________________________\n"
     ]
    }
   ],
   "source": [
    "model.summary()"
   ]
  },
  {
   "cell_type": "code",
   "execution_count": 21,
   "id": "954635d3-0a2f-40e5-aa04-970377a26f73",
   "metadata": {},
   "outputs": [
    {
     "name": "stdout",
     "output_type": "stream",
     "text": [
      "Epoch 7/100\n",
      "20/20 [==============================] - 1s 16ms/step - loss: 0.5324 - accuracy: 0.7541 - val_loss: 0.5154 - val_accuracy: 0.7922\n",
      "Epoch 8/100\n",
      "20/20 [==============================] - 0s 3ms/step - loss: 0.5111 - accuracy: 0.7720 - val_loss: 0.4970 - val_accuracy: 0.7922\n",
      "Epoch 9/100\n",
      "20/20 [==============================] - 0s 3ms/step - loss: 0.4952 - accuracy: 0.7736 - val_loss: 0.4868 - val_accuracy: 0.7987\n",
      "Epoch 10/100\n",
      "20/20 [==============================] - 0s 3ms/step - loss: 0.4845 - accuracy: 0.7720 - val_loss: 0.4799 - val_accuracy: 0.7987\n",
      "Epoch 11/100\n",
      "20/20 [==============================] - 0s 3ms/step - loss: 0.4770 - accuracy: 0.7736 - val_loss: 0.4752 - val_accuracy: 0.7922\n",
      "Epoch 12/100\n",
      "20/20 [==============================] - 0s 3ms/step - loss: 0.4713 - accuracy: 0.7736 - val_loss: 0.4722 - val_accuracy: 0.8052\n",
      "Epoch 13/100\n",
      "20/20 [==============================] - 0s 4ms/step - loss: 0.4670 - accuracy: 0.7769 - val_loss: 0.4705 - val_accuracy: 0.8052\n",
      "Epoch 14/100\n",
      "20/20 [==============================] - 0s 3ms/step - loss: 0.4642 - accuracy: 0.7785 - val_loss: 0.4685 - val_accuracy: 0.8052\n",
      "Epoch 15/100\n",
      "20/20 [==============================] - 0s 4ms/step - loss: 0.4610 - accuracy: 0.7850 - val_loss: 0.4683 - val_accuracy: 0.8052\n",
      "Epoch 16/100\n",
      "20/20 [==============================] - 0s 4ms/step - loss: 0.4588 - accuracy: 0.7785 - val_loss: 0.4677 - val_accuracy: 0.7987\n",
      "Epoch 17/100\n",
      "20/20 [==============================] - 0s 4ms/step - loss: 0.4570 - accuracy: 0.7752 - val_loss: 0.4678 - val_accuracy: 0.8117\n",
      "Epoch 18/100\n",
      "20/20 [==============================] - 0s 3ms/step - loss: 0.4557 - accuracy: 0.7769 - val_loss: 0.4680 - val_accuracy: 0.8117\n",
      "Epoch 19/100\n",
      "20/20 [==============================] - 0s 3ms/step - loss: 0.4542 - accuracy: 0.7801 - val_loss: 0.4681 - val_accuracy: 0.8052\n",
      "Epoch 20/100\n",
      "20/20 [==============================] - 0s 4ms/step - loss: 0.4529 - accuracy: 0.7834 - val_loss: 0.4668 - val_accuracy: 0.8052\n",
      "Epoch 21/100\n",
      "20/20 [==============================] - 0s 3ms/step - loss: 0.4523 - accuracy: 0.7818 - val_loss: 0.4675 - val_accuracy: 0.8052\n",
      "Epoch 22/100\n",
      "20/20 [==============================] - 0s 3ms/step - loss: 0.4509 - accuracy: 0.7785 - val_loss: 0.4670 - val_accuracy: 0.8052\n",
      "Epoch 23/100\n",
      "20/20 [==============================] - 0s 4ms/step - loss: 0.4500 - accuracy: 0.7801 - val_loss: 0.4672 - val_accuracy: 0.8052\n",
      "Epoch 24/100\n",
      "20/20 [==============================] - 0s 4ms/step - loss: 0.4493 - accuracy: 0.7834 - val_loss: 0.4675 - val_accuracy: 0.8052\n",
      "Epoch 25/100\n",
      "20/20 [==============================] - 0s 4ms/step - loss: 0.4484 - accuracy: 0.7850 - val_loss: 0.4671 - val_accuracy: 0.8052\n",
      "Epoch 26/100\n",
      "20/20 [==============================] - 0s 3ms/step - loss: 0.4479 - accuracy: 0.7785 - val_loss: 0.4673 - val_accuracy: 0.8052\n",
      "Epoch 27/100\n",
      "20/20 [==============================] - 0s 4ms/step - loss: 0.4468 - accuracy: 0.7736 - val_loss: 0.4670 - val_accuracy: 0.8052\n",
      "Epoch 28/100\n",
      "20/20 [==============================] - 0s 4ms/step - loss: 0.4462 - accuracy: 0.7818 - val_loss: 0.4676 - val_accuracy: 0.8052\n",
      "Epoch 29/100\n",
      "20/20 [==============================] - 0s 3ms/step - loss: 0.4461 - accuracy: 0.7834 - val_loss: 0.4677 - val_accuracy: 0.8052\n",
      "Epoch 30/100\n",
      "20/20 [==============================] - 0s 4ms/step - loss: 0.4454 - accuracy: 0.7752 - val_loss: 0.4673 - val_accuracy: 0.8117\n",
      "Epoch 31/100\n",
      "20/20 [==============================] - 0s 3ms/step - loss: 0.4449 - accuracy: 0.7785 - val_loss: 0.4675 - val_accuracy: 0.7987\n",
      "Epoch 32/100\n",
      "20/20 [==============================] - 0s 3ms/step - loss: 0.4441 - accuracy: 0.7769 - val_loss: 0.4671 - val_accuracy: 0.8052\n",
      "Epoch 33/100\n",
      "20/20 [==============================] - 0s 3ms/step - loss: 0.4437 - accuracy: 0.7720 - val_loss: 0.4663 - val_accuracy: 0.7987\n",
      "Epoch 34/100\n",
      "20/20 [==============================] - 0s 4ms/step - loss: 0.4431 - accuracy: 0.7785 - val_loss: 0.4654 - val_accuracy: 0.7987\n",
      "Epoch 35/100\n",
      "20/20 [==============================] - 0s 3ms/step - loss: 0.4428 - accuracy: 0.7801 - val_loss: 0.4656 - val_accuracy: 0.7987\n",
      "Epoch 36/100\n",
      "20/20 [==============================] - 0s 3ms/step - loss: 0.4423 - accuracy: 0.7769 - val_loss: 0.4661 - val_accuracy: 0.8052\n",
      "Epoch 37/100\n",
      "20/20 [==============================] - 0s 3ms/step - loss: 0.4418 - accuracy: 0.7785 - val_loss: 0.4666 - val_accuracy: 0.8052\n",
      "Epoch 38/100\n",
      "20/20 [==============================] - 0s 3ms/step - loss: 0.4412 - accuracy: 0.7818 - val_loss: 0.4664 - val_accuracy: 0.7987\n",
      "Epoch 39/100\n",
      "20/20 [==============================] - 0s 3ms/step - loss: 0.4409 - accuracy: 0.7801 - val_loss: 0.4667 - val_accuracy: 0.8117\n",
      "Epoch 40/100\n",
      "20/20 [==============================] - 0s 3ms/step - loss: 0.4399 - accuracy: 0.7818 - val_loss: 0.4674 - val_accuracy: 0.8117\n",
      "Epoch 41/100\n",
      "20/20 [==============================] - 0s 3ms/step - loss: 0.4398 - accuracy: 0.7818 - val_loss: 0.4672 - val_accuracy: 0.8052\n",
      "Epoch 42/100\n",
      "20/20 [==============================] - 0s 3ms/step - loss: 0.4394 - accuracy: 0.7801 - val_loss: 0.4668 - val_accuracy: 0.8117\n",
      "Epoch 43/100\n",
      "20/20 [==============================] - 0s 3ms/step - loss: 0.4393 - accuracy: 0.7801 - val_loss: 0.4670 - val_accuracy: 0.8117\n",
      "Epoch 44/100\n",
      "20/20 [==============================] - 0s 3ms/step - loss: 0.4385 - accuracy: 0.7769 - val_loss: 0.4666 - val_accuracy: 0.8117\n",
      "Epoch 45/100\n",
      "20/20 [==============================] - 0s 3ms/step - loss: 0.4381 - accuracy: 0.7785 - val_loss: 0.4667 - val_accuracy: 0.8117\n",
      "Epoch 46/100\n",
      "20/20 [==============================] - 0s 3ms/step - loss: 0.4380 - accuracy: 0.7834 - val_loss: 0.4664 - val_accuracy: 0.8117\n",
      "Epoch 47/100\n",
      "20/20 [==============================] - 0s 3ms/step - loss: 0.4373 - accuracy: 0.7801 - val_loss: 0.4674 - val_accuracy: 0.8052\n",
      "Epoch 48/100\n",
      "20/20 [==============================] - 0s 3ms/step - loss: 0.4372 - accuracy: 0.7818 - val_loss: 0.4671 - val_accuracy: 0.8052\n",
      "Epoch 49/100\n",
      "20/20 [==============================] - 0s 3ms/step - loss: 0.4364 - accuracy: 0.7818 - val_loss: 0.4674 - val_accuracy: 0.8052\n",
      "Epoch 50/100\n",
      "20/20 [==============================] - 0s 3ms/step - loss: 0.4360 - accuracy: 0.7818 - val_loss: 0.4667 - val_accuracy: 0.8052\n",
      "Epoch 51/100\n",
      "20/20 [==============================] - 0s 3ms/step - loss: 0.4359 - accuracy: 0.7785 - val_loss: 0.4663 - val_accuracy: 0.8052\n",
      "Epoch 52/100\n",
      "20/20 [==============================] - 0s 3ms/step - loss: 0.4353 - accuracy: 0.7801 - val_loss: 0.4663 - val_accuracy: 0.8052\n",
      "Epoch 53/100\n",
      "20/20 [==============================] - 0s 3ms/step - loss: 0.4348 - accuracy: 0.7801 - val_loss: 0.4661 - val_accuracy: 0.8052\n",
      "Epoch 54/100\n",
      "20/20 [==============================] - 0s 3ms/step - loss: 0.4347 - accuracy: 0.7850 - val_loss: 0.4653 - val_accuracy: 0.8117\n",
      "Epoch 55/100\n",
      "20/20 [==============================] - 0s 3ms/step - loss: 0.4343 - accuracy: 0.7818 - val_loss: 0.4652 - val_accuracy: 0.8117\n",
      "Epoch 56/100\n",
      "20/20 [==============================] - 0s 3ms/step - loss: 0.4338 - accuracy: 0.7834 - val_loss: 0.4655 - val_accuracy: 0.8182\n",
      "Epoch 57/100\n",
      "20/20 [==============================] - 0s 3ms/step - loss: 0.4333 - accuracy: 0.7850 - val_loss: 0.4653 - val_accuracy: 0.8182\n",
      "Epoch 58/100\n",
      "20/20 [==============================] - 0s 3ms/step - loss: 0.4327 - accuracy: 0.7866 - val_loss: 0.4658 - val_accuracy: 0.8117\n",
      "Epoch 59/100\n",
      "20/20 [==============================] - 0s 3ms/step - loss: 0.4323 - accuracy: 0.7883 - val_loss: 0.4658 - val_accuracy: 0.8182\n",
      "Epoch 60/100\n",
      "20/20 [==============================] - 0s 3ms/step - loss: 0.4321 - accuracy: 0.7850 - val_loss: 0.4665 - val_accuracy: 0.8117\n",
      "Epoch 61/100\n",
      "20/20 [==============================] - 0s 3ms/step - loss: 0.4315 - accuracy: 0.7850 - val_loss: 0.4666 - val_accuracy: 0.8052\n",
      "Epoch 62/100\n",
      "20/20 [==============================] - 0s 3ms/step - loss: 0.4311 - accuracy: 0.7883 - val_loss: 0.4670 - val_accuracy: 0.8052\n",
      "Epoch 63/100\n",
      "20/20 [==============================] - 0s 3ms/step - loss: 0.4309 - accuracy: 0.7850 - val_loss: 0.4664 - val_accuracy: 0.8117\n",
      "Epoch 64/100\n",
      "20/20 [==============================] - 0s 3ms/step - loss: 0.4304 - accuracy: 0.7850 - val_loss: 0.4662 - val_accuracy: 0.8052\n",
      "Epoch 65/100\n",
      "20/20 [==============================] - 0s 3ms/step - loss: 0.4303 - accuracy: 0.7883 - val_loss: 0.4660 - val_accuracy: 0.8182\n",
      "Epoch 66/100\n",
      "20/20 [==============================] - 0s 4ms/step - loss: 0.4298 - accuracy: 0.7834 - val_loss: 0.4660 - val_accuracy: 0.8182\n",
      "Epoch 67/100\n",
      "20/20 [==============================] - 0s 3ms/step - loss: 0.4292 - accuracy: 0.7883 - val_loss: 0.4661 - val_accuracy: 0.8182\n",
      "Epoch 68/100\n",
      "20/20 [==============================] - 0s 3ms/step - loss: 0.4290 - accuracy: 0.7883 - val_loss: 0.4656 - val_accuracy: 0.8182\n",
      "Epoch 69/100\n",
      "20/20 [==============================] - 0s 3ms/step - loss: 0.4284 - accuracy: 0.7850 - val_loss: 0.4658 - val_accuracy: 0.8182\n",
      "Epoch 70/100\n",
      "20/20 [==============================] - 0s 3ms/step - loss: 0.4283 - accuracy: 0.7883 - val_loss: 0.4649 - val_accuracy: 0.8182\n",
      "Epoch 71/100\n",
      "20/20 [==============================] - 0s 3ms/step - loss: 0.4276 - accuracy: 0.7883 - val_loss: 0.4645 - val_accuracy: 0.8182\n",
      "Epoch 72/100\n",
      "20/20 [==============================] - 0s 3ms/step - loss: 0.4274 - accuracy: 0.7899 - val_loss: 0.4650 - val_accuracy: 0.8182\n",
      "Epoch 73/100\n",
      "20/20 [==============================] - 0s 3ms/step - loss: 0.4272 - accuracy: 0.7915 - val_loss: 0.4654 - val_accuracy: 0.8182\n",
      "Epoch 74/100\n",
      "20/20 [==============================] - 0s 3ms/step - loss: 0.4267 - accuracy: 0.7883 - val_loss: 0.4644 - val_accuracy: 0.8182\n",
      "Epoch 75/100\n",
      "20/20 [==============================] - 0s 3ms/step - loss: 0.4263 - accuracy: 0.7932 - val_loss: 0.4643 - val_accuracy: 0.8117\n",
      "Epoch 76/100\n",
      "20/20 [==============================] - 0s 3ms/step - loss: 0.4263 - accuracy: 0.7899 - val_loss: 0.4635 - val_accuracy: 0.8182\n",
      "Epoch 77/100\n",
      "20/20 [==============================] - 0s 3ms/step - loss: 0.4259 - accuracy: 0.7915 - val_loss: 0.4628 - val_accuracy: 0.8182\n",
      "Epoch 78/100\n",
      "20/20 [==============================] - 0s 3ms/step - loss: 0.4254 - accuracy: 0.7899 - val_loss: 0.4628 - val_accuracy: 0.8182\n",
      "Epoch 79/100\n",
      "20/20 [==============================] - 0s 3ms/step - loss: 0.4252 - accuracy: 0.7915 - val_loss: 0.4626 - val_accuracy: 0.8117\n",
      "Epoch 80/100\n",
      "20/20 [==============================] - 0s 3ms/step - loss: 0.4248 - accuracy: 0.7932 - val_loss: 0.4625 - val_accuracy: 0.8182\n",
      "Epoch 81/100\n",
      "20/20 [==============================] - 0s 4ms/step - loss: 0.4245 - accuracy: 0.7932 - val_loss: 0.4628 - val_accuracy: 0.8182\n",
      "Epoch 82/100\n",
      "20/20 [==============================] - 0s 3ms/step - loss: 0.4245 - accuracy: 0.7899 - val_loss: 0.4633 - val_accuracy: 0.8182\n",
      "Epoch 83/100\n",
      "20/20 [==============================] - 0s 3ms/step - loss: 0.4238 - accuracy: 0.7899 - val_loss: 0.4628 - val_accuracy: 0.8182\n",
      "Epoch 84/100\n",
      "20/20 [==============================] - 0s 3ms/step - loss: 0.4233 - accuracy: 0.7899 - val_loss: 0.4624 - val_accuracy: 0.8182\n",
      "Epoch 85/100\n",
      "20/20 [==============================] - 0s 3ms/step - loss: 0.4231 - accuracy: 0.7932 - val_loss: 0.4621 - val_accuracy: 0.8182\n",
      "Epoch 86/100\n",
      "20/20 [==============================] - 0s 3ms/step - loss: 0.4227 - accuracy: 0.7915 - val_loss: 0.4623 - val_accuracy: 0.8182\n",
      "Epoch 87/100\n",
      "20/20 [==============================] - 0s 3ms/step - loss: 0.4225 - accuracy: 0.7948 - val_loss: 0.4635 - val_accuracy: 0.8182\n",
      "Epoch 88/100\n",
      "20/20 [==============================] - 0s 3ms/step - loss: 0.4221 - accuracy: 0.7915 - val_loss: 0.4636 - val_accuracy: 0.8182\n",
      "Epoch 89/100\n",
      "20/20 [==============================] - 0s 3ms/step - loss: 0.4222 - accuracy: 0.7915 - val_loss: 0.4630 - val_accuracy: 0.8182\n",
      "Epoch 90/100\n",
      "20/20 [==============================] - 0s 3ms/step - loss: 0.4216 - accuracy: 0.7948 - val_loss: 0.4622 - val_accuracy: 0.8182\n",
      "Epoch 91/100\n",
      "20/20 [==============================] - 0s 3ms/step - loss: 0.4212 - accuracy: 0.7964 - val_loss: 0.4630 - val_accuracy: 0.8182\n",
      "Epoch 92/100\n",
      "20/20 [==============================] - 0s 3ms/step - loss: 0.4209 - accuracy: 0.7964 - val_loss: 0.4627 - val_accuracy: 0.8182\n",
      "Epoch 93/100\n",
      "20/20 [==============================] - 0s 3ms/step - loss: 0.4208 - accuracy: 0.7964 - val_loss: 0.4630 - val_accuracy: 0.8182\n",
      "Epoch 94/100\n",
      "20/20 [==============================] - 0s 3ms/step - loss: 0.4208 - accuracy: 0.7964 - val_loss: 0.4631 - val_accuracy: 0.8182\n",
      "Epoch 95/100\n",
      "20/20 [==============================] - 0s 3ms/step - loss: 0.4204 - accuracy: 0.7980 - val_loss: 0.4625 - val_accuracy: 0.8117\n",
      "Epoch 96/100\n",
      "20/20 [==============================] - 0s 3ms/step - loss: 0.4199 - accuracy: 0.7980 - val_loss: 0.4626 - val_accuracy: 0.8182\n",
      "Epoch 97/100\n",
      "20/20 [==============================] - 0s 3ms/step - loss: 0.4197 - accuracy: 0.7997 - val_loss: 0.4619 - val_accuracy: 0.8117\n",
      "Epoch 98/100\n",
      "20/20 [==============================] - 0s 3ms/step - loss: 0.4193 - accuracy: 0.7997 - val_loss: 0.4621 - val_accuracy: 0.8117\n",
      "Epoch 99/100\n",
      "20/20 [==============================] - 0s 3ms/step - loss: 0.4190 - accuracy: 0.8046 - val_loss: 0.4610 - val_accuracy: 0.8117\n",
      "Epoch 100/100\n",
      "20/20 [==============================] - 0s 3ms/step - loss: 0.4189 - accuracy: 0.7997 - val_loss: 0.4616 - val_accuracy: 0.8117\n"
     ]
    },
    {
     "data": {
      "text/plain": [
       "<keras.src.callbacks.History at 0x202e5e91040>"
      ]
     },
     "execution_count": 21,
     "metadata": {},
     "output_type": "execute_result"
    }
   ],
   "source": [
    "model.fit(X_train,y_train, batch_size=32, epochs =100,initial_epoch=6, validation_data=(X_test,y_test))"
   ]
  },
  {
   "cell_type": "code",
   "execution_count": 37,
   "id": "8f384e6f-9475-4964-861d-1e65141be383",
   "metadata": {},
   "outputs": [],
   "source": [
    "def build_model(hp):\n",
    "    model = Sequential()\n",
    "    units = hp.Int('layer', min_value=8, max_value=128, step=8)\n",
    "    model.add(Dense(units=units, activation='relu', input_dim =8))\n",
    "    model.add(Dense(1,activation='sigmoid'))\n",
    "    model.compile(optimizer='rmsprop', loss='binary_crossentropy', metrics=['accuracy'])\n",
    "    return model"
   ]
  },
  {
   "cell_type": "code",
   "execution_count": 38,
   "id": "f7f1bb92-8463-4c19-9b17-60412dd10e07",
   "metadata": {},
   "outputs": [],
   "source": [
    "tuner = kt.RandomSearch(build_model,\n",
    "                        objective='val_accuracy',\n",
    "                        max_trials=5,\n",
    "                       directory='mydir2',\n",
    "                       project_name='pukar')"
   ]
  },
  {
   "cell_type": "code",
   "execution_count": 39,
   "id": "979ae9bf-b370-4704-9512-d8ed46286cbb",
   "metadata": {},
   "outputs": [
    {
     "name": "stdout",
     "output_type": "stream",
     "text": [
      "Trial 5 Complete [00h 00m 02s]\n",
      "val_accuracy: 0.8051947951316833\n",
      "\n",
      "Best val_accuracy So Far: 0.8051947951316833\n",
      "Total elapsed time: 00h 00m 08s\n"
     ]
    }
   ],
   "source": [
    "tuner.search(X_train, y_train, epochs=5, validation_data=(X_test, y_test))\n"
   ]
  },
  {
   "cell_type": "code",
   "execution_count": 40,
   "id": "142a302e-59a9-4e4d-9610-4d533788dea7",
   "metadata": {
    "editable": true,
    "slideshow": {
     "slide_type": ""
    },
    "tags": []
   },
   "outputs": [],
   "source": [
    "best_hyperparameters = tuner.get_best_hyperparameters(num_trials=1)[0].values"
   ]
  },
  {
   "cell_type": "code",
   "execution_count": 41,
   "id": "5b8bad9b-5597-45fe-9a0c-a408ef713200",
   "metadata": {},
   "outputs": [
    {
     "data": {
      "text/plain": [
       "{'layer': 128}"
      ]
     },
     "execution_count": 41,
     "metadata": {},
     "output_type": "execute_result"
    }
   ],
   "source": [
    "best_hyperparameters"
   ]
  },
  {
   "cell_type": "code",
   "execution_count": null,
   "id": "272064cc-92a4-4eb2-bfd8-ad5a868aeb71",
   "metadata": {},
   "outputs": [],
   "source": []
  }
 ],
 "metadata": {
  "kernelspec": {
   "display_name": "Python 3 (ipykernel)",
   "language": "python",
   "name": "python3"
  },
  "language_info": {
   "codemirror_mode": {
    "name": "ipython",
    "version": 3
   },
   "file_extension": ".py",
   "mimetype": "text/x-python",
   "name": "python",
   "nbconvert_exporter": "python",
   "pygments_lexer": "ipython3",
   "version": "3.8.0"
  }
 },
 "nbformat": 4,
 "nbformat_minor": 5
}
