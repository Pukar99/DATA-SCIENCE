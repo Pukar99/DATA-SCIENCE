{
 "cells": [
  {
   "cell_type": "code",
   "execution_count": 1,
   "id": "390a1711-7db5-4aac-8956-adb30c7f7a81",
   "metadata": {},
   "outputs": [],
   "source": [
    "import numpy as np\n",
    "import pandas as pd\n"
   ]
  },
  {
   "cell_type": "code",
   "execution_count": 2,
   "id": "908ef385-5840-46d6-a6eb-cc6e1c737096",
   "metadata": {},
   "outputs": [],
   "source": [
    "df = pd.read_csv('diabetes.csv')"
   ]
  },
  {
   "cell_type": "code",
   "execution_count": 3,
   "id": "edbe961a-9b95-4b25-8b6b-8775effbdfe0",
   "metadata": {},
   "outputs": [
    {
     "data": {
      "text/html": [
       "<div>\n",
       "<style scoped>\n",
       "    .dataframe tbody tr th:only-of-type {\n",
       "        vertical-align: middle;\n",
       "    }\n",
       "\n",
       "    .dataframe tbody tr th {\n",
       "        vertical-align: top;\n",
       "    }\n",
       "\n",
       "    .dataframe thead th {\n",
       "        text-align: right;\n",
       "    }\n",
       "</style>\n",
       "<table border=\"1\" class=\"dataframe\">\n",
       "  <thead>\n",
       "    <tr style=\"text-align: right;\">\n",
       "      <th></th>\n",
       "      <th>Pregnancies</th>\n",
       "      <th>Glucose</th>\n",
       "      <th>BloodPressure</th>\n",
       "      <th>SkinThickness</th>\n",
       "      <th>Insulin</th>\n",
       "      <th>BMI</th>\n",
       "      <th>DiabetesPedigreeFunction</th>\n",
       "      <th>Age</th>\n",
       "      <th>Outcome</th>\n",
       "    </tr>\n",
       "  </thead>\n",
       "  <tbody>\n",
       "    <tr>\n",
       "      <th>0</th>\n",
       "      <td>6</td>\n",
       "      <td>148</td>\n",
       "      <td>72</td>\n",
       "      <td>35</td>\n",
       "      <td>0</td>\n",
       "      <td>33.6</td>\n",
       "      <td>0.627</td>\n",
       "      <td>50</td>\n",
       "      <td>1</td>\n",
       "    </tr>\n",
       "    <tr>\n",
       "      <th>1</th>\n",
       "      <td>1</td>\n",
       "      <td>85</td>\n",
       "      <td>66</td>\n",
       "      <td>29</td>\n",
       "      <td>0</td>\n",
       "      <td>26.6</td>\n",
       "      <td>0.351</td>\n",
       "      <td>31</td>\n",
       "      <td>0</td>\n",
       "    </tr>\n",
       "    <tr>\n",
       "      <th>2</th>\n",
       "      <td>8</td>\n",
       "      <td>183</td>\n",
       "      <td>64</td>\n",
       "      <td>0</td>\n",
       "      <td>0</td>\n",
       "      <td>23.3</td>\n",
       "      <td>0.672</td>\n",
       "      <td>32</td>\n",
       "      <td>1</td>\n",
       "    </tr>\n",
       "    <tr>\n",
       "      <th>3</th>\n",
       "      <td>1</td>\n",
       "      <td>89</td>\n",
       "      <td>66</td>\n",
       "      <td>23</td>\n",
       "      <td>94</td>\n",
       "      <td>28.1</td>\n",
       "      <td>0.167</td>\n",
       "      <td>21</td>\n",
       "      <td>0</td>\n",
       "    </tr>\n",
       "    <tr>\n",
       "      <th>4</th>\n",
       "      <td>0</td>\n",
       "      <td>137</td>\n",
       "      <td>40</td>\n",
       "      <td>35</td>\n",
       "      <td>168</td>\n",
       "      <td>43.1</td>\n",
       "      <td>2.288</td>\n",
       "      <td>33</td>\n",
       "      <td>1</td>\n",
       "    </tr>\n",
       "  </tbody>\n",
       "</table>\n",
       "</div>"
      ],
      "text/plain": [
       "   Pregnancies  Glucose  BloodPressure  SkinThickness  Insulin   BMI  \\\n",
       "0            6      148             72             35        0  33.6   \n",
       "1            1       85             66             29        0  26.6   \n",
       "2            8      183             64              0        0  23.3   \n",
       "3            1       89             66             23       94  28.1   \n",
       "4            0      137             40             35      168  43.1   \n",
       "\n",
       "   DiabetesPedigreeFunction  Age  Outcome  \n",
       "0                     0.627   50        1  \n",
       "1                     0.351   31        0  \n",
       "2                     0.672   32        1  \n",
       "3                     0.167   21        0  \n",
       "4                     2.288   33        1  "
      ]
     },
     "execution_count": 3,
     "metadata": {},
     "output_type": "execute_result"
    }
   ],
   "source": [
    "df.head()"
   ]
  },
  {
   "cell_type": "code",
   "execution_count": 4,
   "id": "2386a130-c2f2-48a1-843c-581b968e4562",
   "metadata": {},
   "outputs": [
    {
     "data": {
      "text/plain": [
       "Pregnancies                 0.221898\n",
       "Glucose                     0.466581\n",
       "BloodPressure               0.065068\n",
       "SkinThickness               0.074752\n",
       "Insulin                     0.130548\n",
       "BMI                         0.292695\n",
       "DiabetesPedigreeFunction    0.173844\n",
       "Age                         0.238356\n",
       "Outcome                     1.000000\n",
       "Name: Outcome, dtype: float64"
      ]
     },
     "execution_count": 4,
     "metadata": {},
     "output_type": "execute_result"
    }
   ],
   "source": [
    "df.corr()['Outcome']"
   ]
  },
  {
   "cell_type": "code",
   "execution_count": 5,
   "id": "c5a4ebd2-3e6d-47f2-a53f-b73a98d98302",
   "metadata": {},
   "outputs": [],
   "source": [
    "X = df.iloc[:,:-1].values\n",
    "y = df.iloc[:,-1].values"
   ]
  },
  {
   "cell_type": "code",
   "execution_count": 6,
   "id": "da256d0d-25c5-438b-b40c-bbe1821455ad",
   "metadata": {},
   "outputs": [],
   "source": [
    "from sklearn.preprocessing import StandardScaler\n",
    "scaler = StandardScaler()"
   ]
  },
  {
   "cell_type": "code",
   "execution_count": 7,
   "id": "25ca7dfe-630c-4d4e-8086-0491c05fc29e",
   "metadata": {},
   "outputs": [],
   "source": [
    "X = scaler.fit_transform(X)"
   ]
  },
  {
   "cell_type": "code",
   "execution_count": 8,
   "id": "b0a2f615-5515-49dd-a69a-303cc9624bc5",
   "metadata": {},
   "outputs": [
    {
     "data": {
      "text/plain": [
       "(768, 8)"
      ]
     },
     "execution_count": 8,
     "metadata": {},
     "output_type": "execute_result"
    }
   ],
   "source": [
    "X.shape"
   ]
  },
  {
   "cell_type": "code",
   "execution_count": 9,
   "id": "00b864f9-ec18-4cb4-8767-8ab71831f504",
   "metadata": {},
   "outputs": [],
   "source": [
    "from sklearn.model_selection import train_test_split\n",
    "X_train,X_test, y_train, y_test = train_test_split(X,y,test_size=0.2,random_state=1)"
   ]
  },
  {
   "cell_type": "code",
   "execution_count": 10,
   "id": "a2b6a74d-6169-452d-8f83-b8c7282fcf00",
   "metadata": {},
   "outputs": [],
   "source": [
    "import tensorflow \n",
    "from tensorflow import keras\n",
    "from keras import Sequential \n",
    "from keras.layers import Dense"
   ]
  },
  {
   "cell_type": "code",
   "execution_count": 11,
   "id": "975a2499-4585-4c34-9f63-e99e32b8c740",
   "metadata": {},
   "outputs": [],
   "source": [
    "model = Sequential()\n",
    "model.add(Dense(32,activation='relu',input_dim=8))\n",
    "model.add(Dense(1,activation='sigmoid'))\n",
    "model.compile(optimizer='Adam',loss='binary_crossentropy',metrics=['accuracy'])"
   ]
  },
  {
   "cell_type": "code",
   "execution_count": 12,
   "id": "6a9a07e5-ec78-4fce-b23a-e5a88b572af7",
   "metadata": {},
   "outputs": [
    {
     "name": "stdout",
     "output_type": "stream",
     "text": [
      "Epoch 1/10\n",
      "20/20 [==============================] - 1s 14ms/step - loss: 0.6599 - accuracy: 0.6287 - val_loss: 0.6711 - val_accuracy: 0.5649\n",
      "Epoch 2/10\n",
      "20/20 [==============================] - 0s 3ms/step - loss: 0.6121 - accuracy: 0.6873 - val_loss: 0.6258 - val_accuracy: 0.6623\n",
      "Epoch 3/10\n",
      "20/20 [==============================] - 0s 3ms/step - loss: 0.5796 - accuracy: 0.7117 - val_loss: 0.5951 - val_accuracy: 0.7273\n",
      "Epoch 4/10\n",
      "20/20 [==============================] - 0s 4ms/step - loss: 0.5551 - accuracy: 0.7248 - val_loss: 0.5681 - val_accuracy: 0.7468\n",
      "Epoch 5/10\n",
      "20/20 [==============================] - 0s 3ms/step - loss: 0.5350 - accuracy: 0.7410 - val_loss: 0.5470 - val_accuracy: 0.7662\n",
      "Epoch 6/10\n",
      "20/20 [==============================] - 0s 3ms/step - loss: 0.5196 - accuracy: 0.7508 - val_loss: 0.5314 - val_accuracy: 0.7532\n",
      "Epoch 7/10\n",
      "20/20 [==============================] - 0s 3ms/step - loss: 0.5075 - accuracy: 0.7606 - val_loss: 0.5199 - val_accuracy: 0.7532\n",
      "Epoch 8/10\n",
      "20/20 [==============================] - 0s 4ms/step - loss: 0.4980 - accuracy: 0.7638 - val_loss: 0.5105 - val_accuracy: 0.7597\n",
      "Epoch 9/10\n",
      "20/20 [==============================] - 0s 3ms/step - loss: 0.4893 - accuracy: 0.7655 - val_loss: 0.5026 - val_accuracy: 0.7597\n",
      "Epoch 10/10\n",
      "20/20 [==============================] - 0s 3ms/step - loss: 0.4838 - accuracy: 0.7671 - val_loss: 0.4965 - val_accuracy: 0.7597\n"
     ]
    },
    {
     "data": {
      "text/plain": [
       "<keras.src.callbacks.History at 0x202e4c7cf10>"
      ]
     },
     "execution_count": 12,
     "metadata": {},
     "output_type": "execute_result"
    }
   ],
   "source": [
    "model.fit(X_train,y_train, batch_size=32,epochs=10,validation_data=(X_test,y_test))"
   ]
  },
  {
   "cell_type": "markdown",
   "id": "9292cb5e-ca20-4390-ab7c-ed68c4f79a87",
   "metadata": {
    "editable": true,
    "slideshow": {
     "slide_type": ""
    },
    "tags": []
   },
   "source": [
    "## what's the keras hyperparameter tuing does :\n",
    "#### 1. how to select appropriate optimizer\n",
    "#### 2. No. of nodes in a layer\n",
    "#### 3. how to select no. of layers\n",
    "#### 4. All in all one model "
   ]
  },
  {
   "cell_type": "code",
   "execution_count": 13,
   "id": "66880d9b-a582-4325-812b-09f93dbc2b25",
   "metadata": {},
   "outputs": [
    {
     "name": "stderr",
     "output_type": "stream",
     "text": [
      "C:\\Users\\hp\\AppData\\Local\\Temp\\ipykernel_11600\\1654478174.py:1: DeprecationWarning: `import kerastuner` is deprecated, please use `import keras_tuner`.\n",
      "  import kerastuner as kt\n"
     ]
    }
   ],
   "source": [
    "import kerastuner as kt"
   ]
  },
  {
   "cell_type": "code",
   "execution_count": 14,
   "id": "340d828c-1009-493e-8bd2-1085708f4d26",
   "metadata": {},
   "outputs": [],
   "source": [
    "def build_model(hp):\n",
    "    model = Sequential() \n",
    "    model.add(Dense(32,activation='relu',input_dim=8))\n",
    "    model.add(Dense(1,activation='sigmoid'))\n",
    "    optimizer = hp.Choice('optimizer', values=['adam','sgd','rmsprop','adadelta'])\n",
    "    model.compile(optimizer=optimizer,loss='binary_crossentropy',metrics=['accuracy'])\n",
    "    return model"
   ]
  },
  {
   "cell_type": "code",
   "execution_count": 15,
   "id": "2769350b-4098-4171-9f3b-91122e3d958f",
   "metadata": {},
   "outputs": [
    {
     "name": "stdout",
     "output_type": "stream",
     "text": [
      "Reloading Tuner from .\\untitled_project\\tuner0.json\n"
     ]
    }
   ],
   "source": [
    "tuner = kt.RandomSearch(build_model,\n",
    "                        objective='val_accuracy',\n",
    "                        max_trials=5)"
   ]
  },
  {
   "cell_type": "code",
   "execution_count": 16,
   "id": "8ad238d8-2752-4a6a-8dce-517df72404c4",
   "metadata": {},
   "outputs": [],
   "source": [
    "tuner.search(X_train,y_train,\n",
    "             epochs =5,\n",
    "             validation_data=(X_test, y_test))"
   ]
  },
  {
   "cell_type": "code",
   "execution_count": 17,
   "id": "5a3a7ae4-647b-4ea9-a970-c18e54b53e26",
   "metadata": {
    "editable": true,
    "slideshow": {
     "slide_type": ""
    },
    "tags": []
   },
   "outputs": [],
   "source": [
    "best_hyperparameters = tuner.get_best_hyperparameters(num_trials=1)[0].values"
   ]
  },
  {
   "cell_type": "code",
   "execution_count": 18,
   "id": "b0738543-343c-4c85-b12c-60ce6af6b55e",
   "metadata": {},
   "outputs": [
    {
     "data": {
      "text/plain": [
       "{'optimizer': 'rmsprop'}"
      ]
     },
     "execution_count": 18,
     "metadata": {},
     "output_type": "execute_result"
    }
   ],
   "source": [
    "best_hyperparameters"
   ]
  },
  {
   "cell_type": "code",
   "execution_count": 19,
   "id": "d960ffaf-e08e-4687-8ebc-f97ed29d42bf",
   "metadata": {},
   "outputs": [],
   "source": [
    "model = tuner.get_best_models(num_models=1)[0]"
   ]
  },
  {
   "cell_type": "code",
   "execution_count": 20,
   "id": "dacb419f-ae52-47d3-a6a6-8179a119df4d",
   "metadata": {},
   "outputs": [
    {
     "name": "stdout",
     "output_type": "stream",
     "text": [
      "Model: \"sequential\"\n",
      "_________________________________________________________________\n",
      " Layer (type)                Output Shape              Param #   \n",
      "=================================================================\n",
      " dense (Dense)               (None, 32)                288       \n",
      "                                                                 \n",
      " dense_1 (Dense)             (None, 1)                 33        \n",
      "                                                                 \n",
      "=================================================================\n",
      "Total params: 321 (1.25 KB)\n",
      "Trainable params: 321 (1.25 KB)\n",
      "Non-trainable params: 0 (0.00 Byte)\n",
      "_________________________________________________________________\n"
     ]
    }
   ],
   "source": [
    "model.summary()"
   ]
  },
  {
   "cell_type": "code",
   "execution_count": 21,
   "id": "954635d3-0a2f-40e5-aa04-970377a26f73",
   "metadata": {},
   "outputs": [
    {
     "name": "stdout",
     "output_type": "stream",
     "text": [
      "Epoch 7/100\n",
      "20/20 [==============================] - 1s 16ms/step - loss: 0.5324 - accuracy: 0.7541 - val_loss: 0.5154 - val_accuracy: 0.7922\n",
      "Epoch 8/100\n",
      "20/20 [==============================] - 0s 3ms/step - loss: 0.5111 - accuracy: 0.7720 - val_loss: 0.4970 - val_accuracy: 0.7922\n",
      "Epoch 9/100\n",
      "20/20 [==============================] - 0s 3ms/step - loss: 0.4952 - accuracy: 0.7736 - val_loss: 0.4868 - val_accuracy: 0.7987\n",
      "Epoch 10/100\n",
      "20/20 [==============================] - 0s 3ms/step - loss: 0.4845 - accuracy: 0.7720 - val_loss: 0.4799 - val_accuracy: 0.7987\n",
      "Epoch 11/100\n",
      "20/20 [==============================] - 0s 3ms/step - loss: 0.4770 - accuracy: 0.7736 - val_loss: 0.4752 - val_accuracy: 0.7922\n",
      "Epoch 12/100\n",
      "20/20 [==============================] - 0s 3ms/step - loss: 0.4713 - accuracy: 0.7736 - val_loss: 0.4722 - val_accuracy: 0.8052\n",
      "Epoch 13/100\n",
      "20/20 [==============================] - 0s 4ms/step - loss: 0.4670 - accuracy: 0.7769 - val_loss: 0.4705 - val_accuracy: 0.8052\n",
      "Epoch 14/100\n",
      "20/20 [==============================] - 0s 3ms/step - loss: 0.4642 - accuracy: 0.7785 - val_loss: 0.4685 - val_accuracy: 0.8052\n",
      "Epoch 15/100\n",
      "20/20 [==============================] - 0s 4ms/step - loss: 0.4610 - accuracy: 0.7850 - val_loss: 0.4683 - val_accuracy: 0.8052\n",
      "Epoch 16/100\n",
      "20/20 [==============================] - 0s 4ms/step - loss: 0.4588 - accuracy: 0.7785 - val_loss: 0.4677 - val_accuracy: 0.7987\n",
      "Epoch 17/100\n",
      "20/20 [==============================] - 0s 4ms/step - loss: 0.4570 - accuracy: 0.7752 - val_loss: 0.4678 - val_accuracy: 0.8117\n",
      "Epoch 18/100\n",
      "20/20 [==============================] - 0s 3ms/step - loss: 0.4557 - accuracy: 0.7769 - val_loss: 0.4680 - val_accuracy: 0.8117\n",
      "Epoch 19/100\n",
      "20/20 [==============================] - 0s 3ms/step - loss: 0.4542 - accuracy: 0.7801 - val_loss: 0.4681 - val_accuracy: 0.8052\n",
      "Epoch 20/100\n",
      "20/20 [==============================] - 0s 4ms/step - loss: 0.4529 - accuracy: 0.7834 - val_loss: 0.4668 - val_accuracy: 0.8052\n",
      "Epoch 21/100\n",
      "20/20 [==============================] - 0s 3ms/step - loss: 0.4523 - accuracy: 0.7818 - val_loss: 0.4675 - val_accuracy: 0.8052\n",
      "Epoch 22/100\n",
      "20/20 [==============================] - 0s 3ms/step - loss: 0.4509 - accuracy: 0.7785 - val_loss: 0.4670 - val_accuracy: 0.8052\n",
      "Epoch 23/100\n",
      "20/20 [==============================] - 0s 4ms/step - loss: 0.4500 - accuracy: 0.7801 - val_loss: 0.4672 - val_accuracy: 0.8052\n",
      "Epoch 24/100\n",
      "20/20 [==============================] - 0s 4ms/step - loss: 0.4493 - accuracy: 0.7834 - val_loss: 0.4675 - val_accuracy: 0.8052\n",
      "Epoch 25/100\n",
      "20/20 [==============================] - 0s 4ms/step - loss: 0.4484 - accuracy: 0.7850 - val_loss: 0.4671 - val_accuracy: 0.8052\n",
      "Epoch 26/100\n",
      "20/20 [==============================] - 0s 3ms/step - loss: 0.4479 - accuracy: 0.7785 - val_loss: 0.4673 - val_accuracy: 0.8052\n",
      "Epoch 27/100\n",
      "20/20 [==============================] - 0s 4ms/step - loss: 0.4468 - accuracy: 0.7736 - val_loss: 0.4670 - val_accuracy: 0.8052\n",
      "Epoch 28/100\n",
      "20/20 [==============================] - 0s 4ms/step - loss: 0.4462 - accuracy: 0.7818 - val_loss: 0.4676 - val_accuracy: 0.8052\n",
      "Epoch 29/100\n",
      "20/20 [==============================] - 0s 3ms/step - loss: 0.4461 - accuracy: 0.7834 - val_loss: 0.4677 - val_accuracy: 0.8052\n",
      "Epoch 30/100\n",
      "20/20 [==============================] - 0s 4ms/step - loss: 0.4454 - accuracy: 0.7752 - val_loss: 0.4673 - val_accuracy: 0.8117\n",
      "Epoch 31/100\n",
      "20/20 [==============================] - 0s 3ms/step - loss: 0.4449 - accuracy: 0.7785 - val_loss: 0.4675 - val_accuracy: 0.7987\n",
      "Epoch 32/100\n",
      "20/20 [==============================] - 0s 3ms/step - loss: 0.4441 - accuracy: 0.7769 - val_loss: 0.4671 - val_accuracy: 0.8052\n",
      "Epoch 33/100\n",
      "20/20 [==============================] - 0s 3ms/step - loss: 0.4437 - accuracy: 0.7720 - val_loss: 0.4663 - val_accuracy: 0.7987\n",
      "Epoch 34/100\n",
      "20/20 [==============================] - 0s 4ms/step - loss: 0.4431 - accuracy: 0.7785 - val_loss: 0.4654 - val_accuracy: 0.7987\n",
      "Epoch 35/100\n",
      "20/20 [==============================] - 0s 3ms/step - loss: 0.4428 - accuracy: 0.7801 - val_loss: 0.4656 - val_accuracy: 0.7987\n",
      "Epoch 36/100\n",
      "20/20 [==============================] - 0s 3ms/step - loss: 0.4423 - accuracy: 0.7769 - val_loss: 0.4661 - val_accuracy: 0.8052\n",
      "Epoch 37/100\n",
      "20/20 [==============================] - 0s 3ms/step - loss: 0.4418 - accuracy: 0.7785 - val_loss: 0.4666 - val_accuracy: 0.8052\n",
      "Epoch 38/100\n",
      "20/20 [==============================] - 0s 3ms/step - loss: 0.4412 - accuracy: 0.7818 - val_loss: 0.4664 - val_accuracy: 0.7987\n",
      "Epoch 39/100\n",
      "20/20 [==============================] - 0s 3ms/step - loss: 0.4409 - accuracy: 0.7801 - val_loss: 0.4667 - val_accuracy: 0.8117\n",
      "Epoch 40/100\n",
      "20/20 [==============================] - 0s 3ms/step - loss: 0.4399 - accuracy: 0.7818 - val_loss: 0.4674 - val_accuracy: 0.8117\n",
      "Epoch 41/100\n",
      "20/20 [==============================] - 0s 3ms/step - loss: 0.4398 - accuracy: 0.7818 - val_loss: 0.4672 - val_accuracy: 0.8052\n",
      "Epoch 42/100\n",
      "20/20 [==============================] - 0s 3ms/step - loss: 0.4394 - accuracy: 0.7801 - val_loss: 0.4668 - val_accuracy: 0.8117\n",
      "Epoch 43/100\n",
      "20/20 [==============================] - 0s 3ms/step - loss: 0.4393 - accuracy: 0.7801 - val_loss: 0.4670 - val_accuracy: 0.8117\n",
      "Epoch 44/100\n",
      "20/20 [==============================] - 0s 3ms/step - loss: 0.4385 - accuracy: 0.7769 - val_loss: 0.4666 - val_accuracy: 0.8117\n",
      "Epoch 45/100\n",
      "20/20 [==============================] - 0s 3ms/step - loss: 0.4381 - accuracy: 0.7785 - val_loss: 0.4667 - val_accuracy: 0.8117\n",
      "Epoch 46/100\n",
      "20/20 [==============================] - 0s 3ms/step - loss: 0.4380 - accuracy: 0.7834 - val_loss: 0.4664 - val_accuracy: 0.8117\n",
      "Epoch 47/100\n",
      "20/20 [==============================] - 0s 3ms/step - loss: 0.4373 - accuracy: 0.7801 - val_loss: 0.4674 - val_accuracy: 0.8052\n",
      "Epoch 48/100\n",
      "20/20 [==============================] - 0s 3ms/step - loss: 0.4372 - accuracy: 0.7818 - val_loss: 0.4671 - val_accuracy: 0.8052\n",
      "Epoch 49/100\n",
      "20/20 [==============================] - 0s 3ms/step - loss: 0.4364 - accuracy: 0.7818 - val_loss: 0.4674 - val_accuracy: 0.8052\n",
      "Epoch 50/100\n",
      "20/20 [==============================] - 0s 3ms/step - loss: 0.4360 - accuracy: 0.7818 - val_loss: 0.4667 - val_accuracy: 0.8052\n",
      "Epoch 51/100\n",
      "20/20 [==============================] - 0s 3ms/step - loss: 0.4359 - accuracy: 0.7785 - val_loss: 0.4663 - val_accuracy: 0.8052\n",
      "Epoch 52/100\n",
      "20/20 [==============================] - 0s 3ms/step - loss: 0.4353 - accuracy: 0.7801 - val_loss: 0.4663 - val_accuracy: 0.8052\n",
      "Epoch 53/100\n",
      "20/20 [==============================] - 0s 3ms/step - loss: 0.4348 - accuracy: 0.7801 - val_loss: 0.4661 - val_accuracy: 0.8052\n",
      "Epoch 54/100\n",
      "20/20 [==============================] - 0s 3ms/step - loss: 0.4347 - accuracy: 0.7850 - val_loss: 0.4653 - val_accuracy: 0.8117\n",
      "Epoch 55/100\n",
      "20/20 [==============================] - 0s 3ms/step - loss: 0.4343 - accuracy: 0.7818 - val_loss: 0.4652 - val_accuracy: 0.8117\n",
      "Epoch 56/100\n",
      "20/20 [==============================] - 0s 3ms/step - loss: 0.4338 - accuracy: 0.7834 - val_loss: 0.4655 - val_accuracy: 0.8182\n",
      "Epoch 57/100\n",
      "20/20 [==============================] - 0s 3ms/step - loss: 0.4333 - accuracy: 0.7850 - val_loss: 0.4653 - val_accuracy: 0.8182\n",
      "Epoch 58/100\n",
      "20/20 [==============================] - 0s 3ms/step - loss: 0.4327 - accuracy: 0.7866 - val_loss: 0.4658 - val_accuracy: 0.8117\n",
      "Epoch 59/100\n",
      "20/20 [==============================] - 0s 3ms/step - loss: 0.4323 - accuracy: 0.7883 - val_loss: 0.4658 - val_accuracy: 0.8182\n",
      "Epoch 60/100\n",
      "20/20 [==============================] - 0s 3ms/step - loss: 0.4321 - accuracy: 0.7850 - val_loss: 0.4665 - val_accuracy: 0.8117\n",
      "Epoch 61/100\n",
      "20/20 [==============================] - 0s 3ms/step - loss: 0.4315 - accuracy: 0.7850 - val_loss: 0.4666 - val_accuracy: 0.8052\n",
      "Epoch 62/100\n",
      "20/20 [==============================] - 0s 3ms/step - loss: 0.4311 - accuracy: 0.7883 - val_loss: 0.4670 - val_accuracy: 0.8052\n",
      "Epoch 63/100\n",
      "20/20 [==============================] - 0s 3ms/step - loss: 0.4309 - accuracy: 0.7850 - val_loss: 0.4664 - val_accuracy: 0.8117\n",
      "Epoch 64/100\n",
      "20/20 [==============================] - 0s 3ms/step - loss: 0.4304 - accuracy: 0.7850 - val_loss: 0.4662 - val_accuracy: 0.8052\n",
      "Epoch 65/100\n",
      "20/20 [==============================] - 0s 3ms/step - loss: 0.4303 - accuracy: 0.7883 - val_loss: 0.4660 - val_accuracy: 0.8182\n",
      "Epoch 66/100\n",
      "20/20 [==============================] - 0s 4ms/step - loss: 0.4298 - accuracy: 0.7834 - val_loss: 0.4660 - val_accuracy: 0.8182\n",
      "Epoch 67/100\n",
      "20/20 [==============================] - 0s 3ms/step - loss: 0.4292 - accuracy: 0.7883 - val_loss: 0.4661 - val_accuracy: 0.8182\n",
      "Epoch 68/100\n",
      "20/20 [==============================] - 0s 3ms/step - loss: 0.4290 - accuracy: 0.7883 - val_loss: 0.4656 - val_accuracy: 0.8182\n",
      "Epoch 69/100\n",
      "20/20 [==============================] - 0s 3ms/step - loss: 0.4284 - accuracy: 0.7850 - val_loss: 0.4658 - val_accuracy: 0.8182\n",
      "Epoch 70/100\n",
      "20/20 [==============================] - 0s 3ms/step - loss: 0.4283 - accuracy: 0.7883 - val_loss: 0.4649 - val_accuracy: 0.8182\n",
      "Epoch 71/100\n",
      "20/20 [==============================] - 0s 3ms/step - loss: 0.4276 - accuracy: 0.7883 - val_loss: 0.4645 - val_accuracy: 0.8182\n",
      "Epoch 72/100\n",
      "20/20 [==============================] - 0s 3ms/step - loss: 0.4274 - accuracy: 0.7899 - val_loss: 0.4650 - val_accuracy: 0.8182\n",
      "Epoch 73/100\n",
      "20/20 [==============================] - 0s 3ms/step - loss: 0.4272 - accuracy: 0.7915 - val_loss: 0.4654 - val_accuracy: 0.8182\n",
      "Epoch 74/100\n",
      "20/20 [==============================] - 0s 3ms/step - loss: 0.4267 - accuracy: 0.7883 - val_loss: 0.4644 - val_accuracy: 0.8182\n",
      "Epoch 75/100\n",
      "20/20 [==============================] - 0s 3ms/step - loss: 0.4263 - accuracy: 0.7932 - val_loss: 0.4643 - val_accuracy: 0.8117\n",
      "Epoch 76/100\n",
      "20/20 [==============================] - 0s 3ms/step - loss: 0.4263 - accuracy: 0.7899 - val_loss: 0.4635 - val_accuracy: 0.8182\n",
      "Epoch 77/100\n",
      "20/20 [==============================] - 0s 3ms/step - loss: 0.4259 - accuracy: 0.7915 - val_loss: 0.4628 - val_accuracy: 0.8182\n",
      "Epoch 78/100\n",
      "20/20 [==============================] - 0s 3ms/step - loss: 0.4254 - accuracy: 0.7899 - val_loss: 0.4628 - val_accuracy: 0.8182\n",
      "Epoch 79/100\n",
      "20/20 [==============================] - 0s 3ms/step - loss: 0.4252 - accuracy: 0.7915 - val_loss: 0.4626 - val_accuracy: 0.8117\n",
      "Epoch 80/100\n",
      "20/20 [==============================] - 0s 3ms/step - loss: 0.4248 - accuracy: 0.7932 - val_loss: 0.4625 - val_accuracy: 0.8182\n",
      "Epoch 81/100\n",
      "20/20 [==============================] - 0s 4ms/step - loss: 0.4245 - accuracy: 0.7932 - val_loss: 0.4628 - val_accuracy: 0.8182\n",
      "Epoch 82/100\n",
      "20/20 [==============================] - 0s 3ms/step - loss: 0.4245 - accuracy: 0.7899 - val_loss: 0.4633 - val_accuracy: 0.8182\n",
      "Epoch 83/100\n",
      "20/20 [==============================] - 0s 3ms/step - loss: 0.4238 - accuracy: 0.7899 - val_loss: 0.4628 - val_accuracy: 0.8182\n",
      "Epoch 84/100\n",
      "20/20 [==============================] - 0s 3ms/step - loss: 0.4233 - accuracy: 0.7899 - val_loss: 0.4624 - val_accuracy: 0.8182\n",
      "Epoch 85/100\n",
      "20/20 [==============================] - 0s 3ms/step - loss: 0.4231 - accuracy: 0.7932 - val_loss: 0.4621 - val_accuracy: 0.8182\n",
      "Epoch 86/100\n",
      "20/20 [==============================] - 0s 3ms/step - loss: 0.4227 - accuracy: 0.7915 - val_loss: 0.4623 - val_accuracy: 0.8182\n",
      "Epoch 87/100\n",
      "20/20 [==============================] - 0s 3ms/step - loss: 0.4225 - accuracy: 0.7948 - val_loss: 0.4635 - val_accuracy: 0.8182\n",
      "Epoch 88/100\n",
      "20/20 [==============================] - 0s 3ms/step - loss: 0.4221 - accuracy: 0.7915 - val_loss: 0.4636 - val_accuracy: 0.8182\n",
      "Epoch 89/100\n",
      "20/20 [==============================] - 0s 3ms/step - loss: 0.4222 - accuracy: 0.7915 - val_loss: 0.4630 - val_accuracy: 0.8182\n",
      "Epoch 90/100\n",
      "20/20 [==============================] - 0s 3ms/step - loss: 0.4216 - accuracy: 0.7948 - val_loss: 0.4622 - val_accuracy: 0.8182\n",
      "Epoch 91/100\n",
      "20/20 [==============================] - 0s 3ms/step - loss: 0.4212 - accuracy: 0.7964 - val_loss: 0.4630 - val_accuracy: 0.8182\n",
      "Epoch 92/100\n",
      "20/20 [==============================] - 0s 3ms/step - loss: 0.4209 - accuracy: 0.7964 - val_loss: 0.4627 - val_accuracy: 0.8182\n",
      "Epoch 93/100\n",
      "20/20 [==============================] - 0s 3ms/step - loss: 0.4208 - accuracy: 0.7964 - val_loss: 0.4630 - val_accuracy: 0.8182\n",
      "Epoch 94/100\n",
      "20/20 [==============================] - 0s 3ms/step - loss: 0.4208 - accuracy: 0.7964 - val_loss: 0.4631 - val_accuracy: 0.8182\n",
      "Epoch 95/100\n",
      "20/20 [==============================] - 0s 3ms/step - loss: 0.4204 - accuracy: 0.7980 - val_loss: 0.4625 - val_accuracy: 0.8117\n",
      "Epoch 96/100\n",
      "20/20 [==============================] - 0s 3ms/step - loss: 0.4199 - accuracy: 0.7980 - val_loss: 0.4626 - val_accuracy: 0.8182\n",
      "Epoch 97/100\n",
      "20/20 [==============================] - 0s 3ms/step - loss: 0.4197 - accuracy: 0.7997 - val_loss: 0.4619 - val_accuracy: 0.8117\n",
      "Epoch 98/100\n",
      "20/20 [==============================] - 0s 3ms/step - loss: 0.4193 - accuracy: 0.7997 - val_loss: 0.4621 - val_accuracy: 0.8117\n",
      "Epoch 99/100\n",
      "20/20 [==============================] - 0s 3ms/step - loss: 0.4190 - accuracy: 0.8046 - val_loss: 0.4610 - val_accuracy: 0.8117\n",
      "Epoch 100/100\n",
      "20/20 [==============================] - 0s 3ms/step - loss: 0.4189 - accuracy: 0.7997 - val_loss: 0.4616 - val_accuracy: 0.8117\n"
     ]
    },
    {
     "data": {
      "text/plain": [
       "<keras.src.callbacks.History at 0x202e5e91040>"
      ]
     },
     "execution_count": 21,
     "metadata": {},
     "output_type": "execute_result"
    }
   ],
   "source": [
    "model.fit(X_train,y_train, batch_size=32, epochs =100,initial_epoch=6, validation_data=(X_test,y_test))"
   ]
  },
  {
   "cell_type": "code",
   "execution_count": 56,
   "id": "8f384e6f-9475-4964-861d-1e65141be383",
   "metadata": {},
   "outputs": [],
   "source": [
    "def build_model(hp):\n",
    "    model = Sequential()\n",
    "    units = hp.Int('layer', min_value=8, max_value=128)\n",
    "    model.add(Dense(units=units, activation='relu', input_dim =8))\n",
    "    model.add(Dense(1,activation='sigmoid'))\n",
    "    model.compile(optimizer='rmsprop', loss='binary_crossentropy', metrics=['accuracy'])\n",
    "    return model"
   ]
  },
  {
   "cell_type": "code",
   "execution_count": 57,
   "id": "f7f1bb92-8463-4c19-9b17-60412dd10e07",
   "metadata": {},
   "outputs": [
    {
     "name": "stdout",
     "output_type": "stream",
     "text": [
      "Reloading Tuner from mydir2\\pukar\\tuner0.json\n"
     ]
    }
   ],
   "source": [
    "tuner = kt.RandomSearch(build_model,\n",
    "                        objective='val_accuracy',\n",
    "                        max_trials=5,\n",
    "                       directory='mydir2',\n",
    "                       project_name='pukar')"
   ]
  },
  {
   "cell_type": "code",
   "execution_count": 58,
   "id": "979ae9bf-b370-4704-9512-d8ed46286cbb",
   "metadata": {},
   "outputs": [],
   "source": [
    "tuner.search(X_train, y_train, epochs=5, validation_data=(X_test, y_test))\n"
   ]
  },
  {
   "cell_type": "code",
   "execution_count": 59,
   "id": "142a302e-59a9-4e4d-9610-4d533788dea7",
   "metadata": {
    "editable": true,
    "slideshow": {
     "slide_type": ""
    },
    "tags": []
   },
   "outputs": [],
   "source": [
    "best_hyperparameters = tuner.get_best_hyperparameters(num_trials=1)[0].values"
   ]
  },
  {
   "cell_type": "code",
   "execution_count": 60,
   "id": "5b8bad9b-5597-45fe-9a0c-a408ef713200",
   "metadata": {},
   "outputs": [
    {
     "data": {
      "text/plain": [
       "{'layer': 128}"
      ]
     },
     "execution_count": 60,
     "metadata": {},
     "output_type": "execute_result"
    }
   ],
   "source": [
    "best_hyperparameters"
   ]
  },
  {
   "cell_type": "code",
   "execution_count": 63,
   "id": "272064cc-92a4-4eb2-bfd8-ad5a868aeb71",
   "metadata": {
    "editable": true,
    "slideshow": {
     "slide_type": ""
    },
    "tags": []
   },
   "outputs": [
    {
     "name": "stdout",
     "output_type": "stream",
     "text": [
      "WARNING:tensorflow:Detecting that an object or model or tf.train.Checkpoint is being deleted with unrestored values. See the following logs for the specific values in question. To silence these warnings, use `status.expect_partial()`. See https://www.tensorflow.org/api_docs/python/tf/train/Checkpoint#restorefor details about the status object returned by the restore function.\n",
      "WARNING:tensorflow:Value in checkpoint could not be found in the restored object: (root).optimizer._variables.1\n",
      "WARNING:tensorflow:Value in checkpoint could not be found in the restored object: (root).optimizer._variables.2\n",
      "WARNING:tensorflow:Value in checkpoint could not be found in the restored object: (root).optimizer._variables.3\n",
      "WARNING:tensorflow:Value in checkpoint could not be found in the restored object: (root).optimizer._variables.4\n"
     ]
    }
   ],
   "source": [
    "model = tuner.get_best_models(num_models=1)[0]"
   ]
  },
  {
   "cell_type": "code",
   "execution_count": 64,
   "id": "20613414-6420-46d5-a505-0ae1aed70b3c",
   "metadata": {},
   "outputs": [
    {
     "name": "stdout",
     "output_type": "stream",
     "text": [
      "Model: \"sequential\"\n",
      "_________________________________________________________________\n",
      " Layer (type)                Output Shape              Param #   \n",
      "=================================================================\n",
      " dense (Dense)               (None, 128)               1152      \n",
      "                                                                 \n",
      " dense_1 (Dense)             (None, 1)                 129       \n",
      "                                                                 \n",
      "=================================================================\n",
      "Total params: 1281 (5.00 KB)\n",
      "Trainable params: 1281 (5.00 KB)\n",
      "Non-trainable params: 0 (0.00 Byte)\n",
      "_________________________________________________________________\n"
     ]
    }
   ],
   "source": [
    "model.summary()"
   ]
  },
  {
   "cell_type": "code",
   "execution_count": 65,
   "id": "86d4ba81-d00a-47db-bb88-60d21dff01cb",
   "metadata": {},
   "outputs": [
    {
     "name": "stdout",
     "output_type": "stream",
     "text": [
      "Epoch 7/100\n",
      "20/20 [==============================] - 1s 12ms/step - loss: 0.4702 - accuracy: 0.7752 - val_loss: 0.4599 - val_accuracy: 0.8052\n",
      "Epoch 8/100\n",
      "20/20 [==============================] - 0s 3ms/step - loss: 0.4626 - accuracy: 0.7720 - val_loss: 0.4556 - val_accuracy: 0.7987\n",
      "Epoch 9/100\n",
      "20/20 [==============================] - 0s 3ms/step - loss: 0.4577 - accuracy: 0.7736 - val_loss: 0.4557 - val_accuracy: 0.8052\n",
      "Epoch 10/100\n",
      "20/20 [==============================] - 0s 3ms/step - loss: 0.4537 - accuracy: 0.7785 - val_loss: 0.4585 - val_accuracy: 0.8052\n",
      "Epoch 11/100\n",
      "20/20 [==============================] - 0s 3ms/step - loss: 0.4512 - accuracy: 0.7785 - val_loss: 0.4570 - val_accuracy: 0.8052\n",
      "Epoch 12/100\n",
      "20/20 [==============================] - 0s 3ms/step - loss: 0.4495 - accuracy: 0.7801 - val_loss: 0.4562 - val_accuracy: 0.7922\n",
      "Epoch 13/100\n",
      "20/20 [==============================] - 0s 3ms/step - loss: 0.4472 - accuracy: 0.7785 - val_loss: 0.4555 - val_accuracy: 0.7922\n",
      "Epoch 14/100\n",
      "20/20 [==============================] - 0s 3ms/step - loss: 0.4459 - accuracy: 0.7785 - val_loss: 0.4572 - val_accuracy: 0.7987\n",
      "Epoch 15/100\n",
      "20/20 [==============================] - 0s 3ms/step - loss: 0.4443 - accuracy: 0.7769 - val_loss: 0.4545 - val_accuracy: 0.8052\n",
      "Epoch 16/100\n",
      "20/20 [==============================] - 0s 3ms/step - loss: 0.4424 - accuracy: 0.7752 - val_loss: 0.4579 - val_accuracy: 0.7987\n",
      "Epoch 17/100\n",
      "20/20 [==============================] - 0s 3ms/step - loss: 0.4418 - accuracy: 0.7769 - val_loss: 0.4576 - val_accuracy: 0.7987\n",
      "Epoch 18/100\n",
      "20/20 [==============================] - 0s 3ms/step - loss: 0.4405 - accuracy: 0.7850 - val_loss: 0.4559 - val_accuracy: 0.8052\n",
      "Epoch 19/100\n",
      "20/20 [==============================] - 0s 3ms/step - loss: 0.4385 - accuracy: 0.7818 - val_loss: 0.4578 - val_accuracy: 0.7987\n",
      "Epoch 20/100\n",
      "20/20 [==============================] - 0s 4ms/step - loss: 0.4382 - accuracy: 0.7785 - val_loss: 0.4577 - val_accuracy: 0.8052\n",
      "Epoch 21/100\n",
      "20/20 [==============================] - 0s 3ms/step - loss: 0.4371 - accuracy: 0.7834 - val_loss: 0.4573 - val_accuracy: 0.8052\n",
      "Epoch 22/100\n",
      "20/20 [==============================] - 0s 3ms/step - loss: 0.4360 - accuracy: 0.7850 - val_loss: 0.4579 - val_accuracy: 0.8117\n",
      "Epoch 23/100\n",
      "20/20 [==============================] - 0s 4ms/step - loss: 0.4347 - accuracy: 0.7834 - val_loss: 0.4576 - val_accuracy: 0.7922\n",
      "Epoch 24/100\n",
      "20/20 [==============================] - 0s 3ms/step - loss: 0.4350 - accuracy: 0.7785 - val_loss: 0.4584 - val_accuracy: 0.8052\n",
      "Epoch 25/100\n",
      "20/20 [==============================] - 0s 5ms/step - loss: 0.4339 - accuracy: 0.7834 - val_loss: 0.4591 - val_accuracy: 0.8117\n",
      "Epoch 26/100\n",
      "20/20 [==============================] - 0s 3ms/step - loss: 0.4327 - accuracy: 0.7866 - val_loss: 0.4605 - val_accuracy: 0.8052\n",
      "Epoch 27/100\n",
      "20/20 [==============================] - 0s 3ms/step - loss: 0.4313 - accuracy: 0.7785 - val_loss: 0.4581 - val_accuracy: 0.8117\n",
      "Epoch 28/100\n",
      "20/20 [==============================] - 0s 3ms/step - loss: 0.4313 - accuracy: 0.7850 - val_loss: 0.4574 - val_accuracy: 0.8117\n",
      "Epoch 29/100\n",
      "20/20 [==============================] - 0s 4ms/step - loss: 0.4305 - accuracy: 0.7883 - val_loss: 0.4582 - val_accuracy: 0.8117\n",
      "Epoch 30/100\n",
      "20/20 [==============================] - 0s 3ms/step - loss: 0.4295 - accuracy: 0.7899 - val_loss: 0.4572 - val_accuracy: 0.8117\n",
      "Epoch 31/100\n",
      "20/20 [==============================] - 0s 4ms/step - loss: 0.4295 - accuracy: 0.7883 - val_loss: 0.4581 - val_accuracy: 0.8117\n",
      "Epoch 32/100\n",
      "20/20 [==============================] - 0s 3ms/step - loss: 0.4280 - accuracy: 0.7883 - val_loss: 0.4590 - val_accuracy: 0.8182\n",
      "Epoch 33/100\n",
      "20/20 [==============================] - 0s 3ms/step - loss: 0.4276 - accuracy: 0.7948 - val_loss: 0.4581 - val_accuracy: 0.8182\n",
      "Epoch 34/100\n",
      "20/20 [==============================] - 0s 3ms/step - loss: 0.4270 - accuracy: 0.7948 - val_loss: 0.4587 - val_accuracy: 0.8182\n",
      "Epoch 35/100\n",
      "20/20 [==============================] - 0s 3ms/step - loss: 0.4267 - accuracy: 0.7980 - val_loss: 0.4610 - val_accuracy: 0.8117\n",
      "Epoch 36/100\n",
      "20/20 [==============================] - 0s 3ms/step - loss: 0.4251 - accuracy: 0.7850 - val_loss: 0.4616 - val_accuracy: 0.8117\n",
      "Epoch 37/100\n",
      "20/20 [==============================] - 0s 4ms/step - loss: 0.4252 - accuracy: 0.7997 - val_loss: 0.4610 - val_accuracy: 0.8182\n",
      "Epoch 38/100\n",
      "20/20 [==============================] - 0s 3ms/step - loss: 0.4249 - accuracy: 0.7932 - val_loss: 0.4588 - val_accuracy: 0.8117\n",
      "Epoch 39/100\n",
      "20/20 [==============================] - 0s 3ms/step - loss: 0.4230 - accuracy: 0.7948 - val_loss: 0.4584 - val_accuracy: 0.8182\n",
      "Epoch 40/100\n",
      "20/20 [==============================] - 0s 3ms/step - loss: 0.4226 - accuracy: 0.7948 - val_loss: 0.4580 - val_accuracy: 0.8117\n",
      "Epoch 41/100\n",
      "20/20 [==============================] - 0s 3ms/step - loss: 0.4220 - accuracy: 0.7980 - val_loss: 0.4600 - val_accuracy: 0.8247\n",
      "Epoch 42/100\n",
      "20/20 [==============================] - 0s 3ms/step - loss: 0.4208 - accuracy: 0.7997 - val_loss: 0.4603 - val_accuracy: 0.8247\n",
      "Epoch 43/100\n",
      "20/20 [==============================] - 0s 4ms/step - loss: 0.4208 - accuracy: 0.7932 - val_loss: 0.4594 - val_accuracy: 0.8182\n",
      "Epoch 44/100\n",
      "20/20 [==============================] - 0s 4ms/step - loss: 0.4204 - accuracy: 0.7997 - val_loss: 0.4611 - val_accuracy: 0.8117\n",
      "Epoch 45/100\n",
      "20/20 [==============================] - 0s 3ms/step - loss: 0.4188 - accuracy: 0.7964 - val_loss: 0.4607 - val_accuracy: 0.8247\n",
      "Epoch 46/100\n",
      "20/20 [==============================] - 0s 4ms/step - loss: 0.4187 - accuracy: 0.8013 - val_loss: 0.4573 - val_accuracy: 0.8052\n",
      "Epoch 47/100\n",
      "20/20 [==============================] - 0s 3ms/step - loss: 0.4179 - accuracy: 0.8013 - val_loss: 0.4585 - val_accuracy: 0.8182\n",
      "Epoch 48/100\n",
      "20/20 [==============================] - 0s 3ms/step - loss: 0.4173 - accuracy: 0.8013 - val_loss: 0.4580 - val_accuracy: 0.8182\n",
      "Epoch 49/100\n",
      "20/20 [==============================] - 0s 3ms/step - loss: 0.4170 - accuracy: 0.8046 - val_loss: 0.4602 - val_accuracy: 0.8182\n",
      "Epoch 50/100\n",
      "20/20 [==============================] - 0s 4ms/step - loss: 0.4163 - accuracy: 0.8046 - val_loss: 0.4573 - val_accuracy: 0.8182\n",
      "Epoch 51/100\n",
      "20/20 [==============================] - 0s 3ms/step - loss: 0.4159 - accuracy: 0.8078 - val_loss: 0.4596 - val_accuracy: 0.8182\n",
      "Epoch 52/100\n",
      "20/20 [==============================] - 0s 3ms/step - loss: 0.4148 - accuracy: 0.8013 - val_loss: 0.4594 - val_accuracy: 0.8182\n",
      "Epoch 53/100\n",
      "20/20 [==============================] - 0s 3ms/step - loss: 0.4144 - accuracy: 0.7997 - val_loss: 0.4592 - val_accuracy: 0.8182\n",
      "Epoch 54/100\n",
      "20/20 [==============================] - 0s 3ms/step - loss: 0.4129 - accuracy: 0.8078 - val_loss: 0.4573 - val_accuracy: 0.8182\n",
      "Epoch 55/100\n",
      "20/20 [==============================] - 0s 3ms/step - loss: 0.4128 - accuracy: 0.8029 - val_loss: 0.4570 - val_accuracy: 0.8117\n",
      "Epoch 56/100\n",
      "20/20 [==============================] - 0s 3ms/step - loss: 0.4132 - accuracy: 0.8046 - val_loss: 0.4564 - val_accuracy: 0.8052\n",
      "Epoch 57/100\n",
      "20/20 [==============================] - 0s 3ms/step - loss: 0.4130 - accuracy: 0.8094 - val_loss: 0.4572 - val_accuracy: 0.8182\n",
      "Epoch 58/100\n",
      "20/20 [==============================] - 0s 3ms/step - loss: 0.4117 - accuracy: 0.8062 - val_loss: 0.4591 - val_accuracy: 0.8247\n",
      "Epoch 59/100\n",
      "20/20 [==============================] - 0s 5ms/step - loss: 0.4121 - accuracy: 0.8029 - val_loss: 0.4582 - val_accuracy: 0.8182\n",
      "Epoch 60/100\n",
      "20/20 [==============================] - 0s 3ms/step - loss: 0.4107 - accuracy: 0.8029 - val_loss: 0.4593 - val_accuracy: 0.8182\n",
      "Epoch 61/100\n",
      "20/20 [==============================] - 0s 3ms/step - loss: 0.4118 - accuracy: 0.8094 - val_loss: 0.4614 - val_accuracy: 0.8182\n",
      "Epoch 62/100\n",
      "20/20 [==============================] - 0s 3ms/step - loss: 0.4094 - accuracy: 0.8062 - val_loss: 0.4621 - val_accuracy: 0.8182\n",
      "Epoch 63/100\n",
      "20/20 [==============================] - 0s 4ms/step - loss: 0.4093 - accuracy: 0.8078 - val_loss: 0.4625 - val_accuracy: 0.8182\n",
      "Epoch 64/100\n",
      "20/20 [==============================] - 0s 3ms/step - loss: 0.4083 - accuracy: 0.8160 - val_loss: 0.4604 - val_accuracy: 0.8247\n",
      "Epoch 65/100\n",
      "20/20 [==============================] - 0s 3ms/step - loss: 0.4076 - accuracy: 0.8111 - val_loss: 0.4609 - val_accuracy: 0.8247\n",
      "Epoch 66/100\n",
      "20/20 [==============================] - 0s 3ms/step - loss: 0.4074 - accuracy: 0.8094 - val_loss: 0.4597 - val_accuracy: 0.8247\n",
      "Epoch 67/100\n",
      "20/20 [==============================] - 0s 3ms/step - loss: 0.4074 - accuracy: 0.8160 - val_loss: 0.4564 - val_accuracy: 0.8247\n",
      "Epoch 68/100\n",
      "20/20 [==============================] - 0s 3ms/step - loss: 0.4064 - accuracy: 0.8062 - val_loss: 0.4594 - val_accuracy: 0.8247\n",
      "Epoch 69/100\n",
      "20/20 [==============================] - 0s 3ms/step - loss: 0.4057 - accuracy: 0.8143 - val_loss: 0.4602 - val_accuracy: 0.8247\n",
      "Epoch 70/100\n",
      "20/20 [==============================] - 0s 3ms/step - loss: 0.4053 - accuracy: 0.8111 - val_loss: 0.4604 - val_accuracy: 0.8247\n",
      "Epoch 71/100\n",
      "20/20 [==============================] - 0s 3ms/step - loss: 0.4048 - accuracy: 0.8111 - val_loss: 0.4566 - val_accuracy: 0.8182\n",
      "Epoch 72/100\n",
      "20/20 [==============================] - 0s 3ms/step - loss: 0.4045 - accuracy: 0.8111 - val_loss: 0.4595 - val_accuracy: 0.8182\n",
      "Epoch 73/100\n",
      "20/20 [==============================] - 0s 3ms/step - loss: 0.4032 - accuracy: 0.8143 - val_loss: 0.4596 - val_accuracy: 0.8247\n",
      "Epoch 74/100\n",
      "20/20 [==============================] - 0s 3ms/step - loss: 0.4033 - accuracy: 0.8192 - val_loss: 0.4596 - val_accuracy: 0.8247\n",
      "Epoch 75/100\n",
      "20/20 [==============================] - 0s 3ms/step - loss: 0.4036 - accuracy: 0.8160 - val_loss: 0.4588 - val_accuracy: 0.8182\n",
      "Epoch 76/100\n",
      "20/20 [==============================] - 0s 3ms/step - loss: 0.4012 - accuracy: 0.8192 - val_loss: 0.4599 - val_accuracy: 0.8182\n",
      "Epoch 77/100\n",
      "20/20 [==============================] - 0s 3ms/step - loss: 0.4010 - accuracy: 0.8208 - val_loss: 0.4566 - val_accuracy: 0.8182\n",
      "Epoch 78/100\n",
      "20/20 [==============================] - 0s 3ms/step - loss: 0.4009 - accuracy: 0.8160 - val_loss: 0.4560 - val_accuracy: 0.8052\n",
      "Epoch 79/100\n",
      "20/20 [==============================] - 0s 3ms/step - loss: 0.4004 - accuracy: 0.8143 - val_loss: 0.4562 - val_accuracy: 0.8117\n",
      "Epoch 80/100\n",
      "20/20 [==============================] - 0s 3ms/step - loss: 0.3999 - accuracy: 0.8127 - val_loss: 0.4566 - val_accuracy: 0.8117\n",
      "Epoch 81/100\n",
      "20/20 [==============================] - 0s 4ms/step - loss: 0.3985 - accuracy: 0.8241 - val_loss: 0.4584 - val_accuracy: 0.8182\n",
      "Epoch 82/100\n",
      "20/20 [==============================] - 0s 3ms/step - loss: 0.3989 - accuracy: 0.8225 - val_loss: 0.4586 - val_accuracy: 0.8117\n",
      "Epoch 83/100\n",
      "20/20 [==============================] - 0s 3ms/step - loss: 0.3982 - accuracy: 0.8208 - val_loss: 0.4599 - val_accuracy: 0.8182\n",
      "Epoch 84/100\n",
      "20/20 [==============================] - 0s 3ms/step - loss: 0.3991 - accuracy: 0.8143 - val_loss: 0.4625 - val_accuracy: 0.8117\n",
      "Epoch 85/100\n",
      "20/20 [==============================] - 0s 3ms/step - loss: 0.3972 - accuracy: 0.8176 - val_loss: 0.4605 - val_accuracy: 0.8182\n",
      "Epoch 86/100\n",
      "20/20 [==============================] - 0s 3ms/step - loss: 0.3966 - accuracy: 0.8208 - val_loss: 0.4593 - val_accuracy: 0.8117\n",
      "Epoch 87/100\n",
      "20/20 [==============================] - 0s 4ms/step - loss: 0.3968 - accuracy: 0.8257 - val_loss: 0.4599 - val_accuracy: 0.8182\n",
      "Epoch 88/100\n",
      "20/20 [==============================] - 0s 3ms/step - loss: 0.3960 - accuracy: 0.8176 - val_loss: 0.4624 - val_accuracy: 0.8247\n",
      "Epoch 89/100\n",
      "20/20 [==============================] - 0s 3ms/step - loss: 0.3954 - accuracy: 0.8192 - val_loss: 0.4601 - val_accuracy: 0.8247\n",
      "Epoch 90/100\n",
      "20/20 [==============================] - 0s 3ms/step - loss: 0.3952 - accuracy: 0.8143 - val_loss: 0.4602 - val_accuracy: 0.8182\n",
      "Epoch 91/100\n",
      "20/20 [==============================] - 0s 3ms/step - loss: 0.3952 - accuracy: 0.8111 - val_loss: 0.4628 - val_accuracy: 0.8182\n",
      "Epoch 92/100\n",
      "20/20 [==============================] - 0s 3ms/step - loss: 0.3943 - accuracy: 0.8225 - val_loss: 0.4598 - val_accuracy: 0.8182\n",
      "Epoch 93/100\n",
      "20/20 [==============================] - 0s 4ms/step - loss: 0.3932 - accuracy: 0.8143 - val_loss: 0.4606 - val_accuracy: 0.8182\n",
      "Epoch 94/100\n",
      "20/20 [==============================] - 0s 3ms/step - loss: 0.3928 - accuracy: 0.8208 - val_loss: 0.4644 - val_accuracy: 0.8182\n",
      "Epoch 95/100\n",
      "20/20 [==============================] - 0s 3ms/step - loss: 0.3927 - accuracy: 0.8274 - val_loss: 0.4640 - val_accuracy: 0.8117\n",
      "Epoch 96/100\n",
      "20/20 [==============================] - 0s 3ms/step - loss: 0.3924 - accuracy: 0.8225 - val_loss: 0.4641 - val_accuracy: 0.8052\n",
      "Epoch 97/100\n",
      "20/20 [==============================] - 0s 4ms/step - loss: 0.3911 - accuracy: 0.8290 - val_loss: 0.4644 - val_accuracy: 0.8182\n",
      "Epoch 98/100\n",
      "20/20 [==============================] - 0s 3ms/step - loss: 0.3911 - accuracy: 0.8257 - val_loss: 0.4599 - val_accuracy: 0.8247\n",
      "Epoch 99/100\n",
      "20/20 [==============================] - 0s 3ms/step - loss: 0.3915 - accuracy: 0.8290 - val_loss: 0.4602 - val_accuracy: 0.8247\n",
      "Epoch 100/100\n",
      "20/20 [==============================] - 0s 3ms/step - loss: 0.3904 - accuracy: 0.8225 - val_loss: 0.4609 - val_accuracy: 0.8182\n"
     ]
    },
    {
     "data": {
      "text/plain": [
       "<keras.src.callbacks.History at 0x202e6a94070>"
      ]
     },
     "execution_count": 65,
     "metadata": {},
     "output_type": "execute_result"
    }
   ],
   "source": [
    "model.fit(X_train,y_train, batch_size=32, epochs =100,initial_epoch=6, validation_data=(X_test,y_test))"
   ]
  },
  {
   "cell_type": "code",
   "execution_count": 69,
   "id": "8539a2e5-7b10-4e01-a6be-0f8de32bf2d6",
   "metadata": {},
   "outputs": [],
   "source": [
    "# how to select no. of layer\n"
   ]
  },
  {
   "cell_type": "code",
   "execution_count": 72,
   "id": "0735c8ff-3c0c-4740-9569-f861e67f94bc",
   "metadata": {},
   "outputs": [],
   "source": [
    "def build_model(hp):\n",
    "    model = Sequential()\n",
    "\n",
    "    model.add(Dense(72, activation='relu', input_dim=8))  # Fixed typo here\n",
    "    for i in range(hp.Int('num_layers', min_value=1, max_value=10)):\n",
    "        model.add(Dense(72, activation='relu'))\n",
    "    model.add(Dense(1, activation='sigmoid'))\n",
    "    model.compile(optimizer='rmsprop', loss='binary_crossentropy', metrics=['accuracy'])\n",
    "    return model\n"
   ]
  },
  {
   "cell_type": "code",
   "execution_count": 73,
   "id": "1f66bd9f-66ba-405f-9e83-cfb41fcf313c",
   "metadata": {},
   "outputs": [],
   "source": [
    "tuner=kt.RandomSearch(build_model,\n",
    "                      objective='val_accuracy',\n",
    "                      max_trials=3,\n",
    "                      directory='mydir',\n",
    "                      project_name='numlayer')"
   ]
  },
  {
   "cell_type": "code",
   "execution_count": 74,
   "id": "c8fb45fd-def7-4453-9bbe-a6375767619d",
   "metadata": {},
   "outputs": [
    {
     "name": "stdout",
     "output_type": "stream",
     "text": [
      "Trial 3 Complete [00h 00m 02s]\n",
      "val_accuracy: 0.8051947951316833\n",
      "\n",
      "Best val_accuracy So Far: 0.8116883039474487\n",
      "Total elapsed time: 00h 00m 07s\n"
     ]
    }
   ],
   "source": [
    "tuner.search(X_train, y_train, epochs=5, validation_data=(X_test, y_test))"
   ]
  },
  {
   "cell_type": "code",
   "execution_count": 75,
   "id": "8f1a4b5a-16df-40cc-9b78-c8c1ef1b39ed",
   "metadata": {},
   "outputs": [],
   "source": [
    "best_hyperparameters = tuner.get_best_hyperparameters(num_trials=1)[0].values"
   ]
  },
  {
   "cell_type": "code",
   "execution_count": 76,
   "id": "4a1ae8fd-b7b7-470a-bf87-17886eb189da",
   "metadata": {},
   "outputs": [
    {
     "data": {
      "text/plain": [
       "{'num_layers': 10}"
      ]
     },
     "execution_count": 76,
     "metadata": {},
     "output_type": "execute_result"
    }
   ],
   "source": [
    "best_hyperparameters"
   ]
  },
  {
   "cell_type": "code",
   "execution_count": 77,
   "id": "1a11544b-6616-46c6-b971-7fa8e5195433",
   "metadata": {},
   "outputs": [],
   "source": [
    "model = tuner.get_best_models(num_models=1)[0]\n"
   ]
  },
  {
   "cell_type": "code",
   "execution_count": 78,
   "id": "a202c76c-1847-4592-9ebb-49617981835d",
   "metadata": {},
   "outputs": [
    {
     "data": {
      "text/plain": [
       "<bound method Model.summary of <keras.src.engine.sequential.Sequential object at 0x00000202E7AF9BB0>>"
      ]
     },
     "execution_count": 78,
     "metadata": {},
     "output_type": "execute_result"
    }
   ],
   "source": [
    "model.summary"
   ]
  },
  {
   "cell_type": "code",
   "execution_count": 79,
   "id": "cca193b5-c78b-40a6-92aa-941303cb8f00",
   "metadata": {},
   "outputs": [
    {
     "name": "stdout",
     "output_type": "stream",
     "text": [
      "Epoch 7/100\n",
      "20/20 [==============================] - 2s 19ms/step - loss: 0.4920 - accuracy: 0.7524 - val_loss: 0.4908 - val_accuracy: 0.8117\n",
      "Epoch 8/100\n",
      "20/20 [==============================] - 0s 4ms/step - loss: 0.4698 - accuracy: 0.7671 - val_loss: 0.5630 - val_accuracy: 0.7013\n",
      "Epoch 9/100\n",
      "20/20 [==============================] - 0s 5ms/step - loss: 0.4588 - accuracy: 0.7785 - val_loss: 0.4995 - val_accuracy: 0.7987\n",
      "Epoch 10/100\n",
      "20/20 [==============================] - 0s 4ms/step - loss: 0.4407 - accuracy: 0.7899 - val_loss: 0.4887 - val_accuracy: 0.7987\n",
      "Epoch 11/100\n",
      "20/20 [==============================] - 0s 3ms/step - loss: 0.4298 - accuracy: 0.7915 - val_loss: 0.4731 - val_accuracy: 0.8247\n",
      "Epoch 12/100\n",
      "20/20 [==============================] - 0s 4ms/step - loss: 0.4140 - accuracy: 0.8127 - val_loss: 0.4660 - val_accuracy: 0.8247\n",
      "Epoch 13/100\n",
      "20/20 [==============================] - 0s 4ms/step - loss: 0.4088 - accuracy: 0.8029 - val_loss: 0.4925 - val_accuracy: 0.7792\n",
      "Epoch 14/100\n",
      "20/20 [==============================] - 0s 4ms/step - loss: 0.4017 - accuracy: 0.8322 - val_loss: 0.5651 - val_accuracy: 0.7922\n",
      "Epoch 15/100\n",
      "20/20 [==============================] - 0s 4ms/step - loss: 0.3831 - accuracy: 0.8322 - val_loss: 0.4864 - val_accuracy: 0.8117\n",
      "Epoch 16/100\n",
      "20/20 [==============================] - 0s 4ms/step - loss: 0.3716 - accuracy: 0.8485 - val_loss: 0.4971 - val_accuracy: 0.7857\n",
      "Epoch 17/100\n",
      "20/20 [==============================] - 0s 4ms/step - loss: 0.3587 - accuracy: 0.8583 - val_loss: 0.5078 - val_accuracy: 0.7922\n",
      "Epoch 18/100\n",
      "20/20 [==============================] - 0s 4ms/step - loss: 0.3329 - accuracy: 0.8697 - val_loss: 0.5812 - val_accuracy: 0.7662\n",
      "Epoch 19/100\n",
      "20/20 [==============================] - 0s 5ms/step - loss: 0.3315 - accuracy: 0.8664 - val_loss: 0.5472 - val_accuracy: 0.8052\n",
      "Epoch 20/100\n",
      "20/20 [==============================] - 0s 4ms/step - loss: 0.3140 - accuracy: 0.8779 - val_loss: 0.6973 - val_accuracy: 0.7662\n",
      "Epoch 21/100\n",
      "20/20 [==============================] - 0s 5ms/step - loss: 0.2939 - accuracy: 0.8779 - val_loss: 0.6240 - val_accuracy: 0.7857\n",
      "Epoch 22/100\n",
      "20/20 [==============================] - 0s 4ms/step - loss: 0.3131 - accuracy: 0.8697 - val_loss: 0.5593 - val_accuracy: 0.7727\n",
      "Epoch 23/100\n",
      "20/20 [==============================] - 0s 4ms/step - loss: 0.2639 - accuracy: 0.8974 - val_loss: 0.6327 - val_accuracy: 0.7792\n",
      "Epoch 24/100\n",
      "20/20 [==============================] - 0s 4ms/step - loss: 0.2886 - accuracy: 0.8811 - val_loss: 0.6567 - val_accuracy: 0.7662\n",
      "Epoch 25/100\n",
      "20/20 [==============================] - 0s 4ms/step - loss: 0.2234 - accuracy: 0.9186 - val_loss: 1.0535 - val_accuracy: 0.7403\n",
      "Epoch 26/100\n",
      "20/20 [==============================] - 0s 4ms/step - loss: 0.2696 - accuracy: 0.8990 - val_loss: 0.7036 - val_accuracy: 0.7727\n",
      "Epoch 27/100\n",
      "20/20 [==============================] - 0s 4ms/step - loss: 0.2347 - accuracy: 0.9072 - val_loss: 0.6760 - val_accuracy: 0.7727\n",
      "Epoch 28/100\n",
      "20/20 [==============================] - 0s 4ms/step - loss: 0.2091 - accuracy: 0.9283 - val_loss: 1.1515 - val_accuracy: 0.7468\n",
      "Epoch 29/100\n",
      "20/20 [==============================] - 0s 4ms/step - loss: 0.2294 - accuracy: 0.9088 - val_loss: 0.7772 - val_accuracy: 0.7597\n",
      "Epoch 30/100\n",
      "20/20 [==============================] - 0s 4ms/step - loss: 0.1602 - accuracy: 0.9463 - val_loss: 1.0440 - val_accuracy: 0.6883\n",
      "Epoch 31/100\n",
      "20/20 [==============================] - 0s 5ms/step - loss: 0.2168 - accuracy: 0.9169 - val_loss: 0.9011 - val_accuracy: 0.7727\n",
      "Epoch 32/100\n",
      "20/20 [==============================] - 0s 4ms/step - loss: 0.1722 - accuracy: 0.9381 - val_loss: 0.8475 - val_accuracy: 0.7403\n",
      "Epoch 33/100\n",
      "20/20 [==============================] - 0s 4ms/step - loss: 0.1874 - accuracy: 0.9414 - val_loss: 0.9172 - val_accuracy: 0.7468\n",
      "Epoch 34/100\n",
      "20/20 [==============================] - 0s 4ms/step - loss: 0.1428 - accuracy: 0.9446 - val_loss: 1.0165 - val_accuracy: 0.7597\n",
      "Epoch 35/100\n",
      "20/20 [==============================] - 0s 4ms/step - loss: 0.1489 - accuracy: 0.9479 - val_loss: 1.3586 - val_accuracy: 0.6948\n",
      "Epoch 36/100\n",
      "20/20 [==============================] - 0s 4ms/step - loss: 0.1522 - accuracy: 0.9463 - val_loss: 0.8775 - val_accuracy: 0.7078\n",
      "Epoch 37/100\n",
      "20/20 [==============================] - 0s 5ms/step - loss: 0.1324 - accuracy: 0.9528 - val_loss: 0.9729 - val_accuracy: 0.7468\n",
      "Epoch 38/100\n",
      "20/20 [==============================] - 0s 4ms/step - loss: 0.1121 - accuracy: 0.9577 - val_loss: 1.0518 - val_accuracy: 0.7078\n",
      "Epoch 39/100\n",
      "20/20 [==============================] - 0s 4ms/step - loss: 0.1327 - accuracy: 0.9430 - val_loss: 1.2660 - val_accuracy: 0.7532\n",
      "Epoch 40/100\n",
      "20/20 [==============================] - 0s 5ms/step - loss: 0.0877 - accuracy: 0.9691 - val_loss: 1.5578 - val_accuracy: 0.7727\n",
      "Epoch 41/100\n",
      "20/20 [==============================] - 0s 4ms/step - loss: 0.1012 - accuracy: 0.9674 - val_loss: 1.4473 - val_accuracy: 0.7273\n",
      "Epoch 42/100\n",
      "20/20 [==============================] - 0s 4ms/step - loss: 0.1212 - accuracy: 0.9593 - val_loss: 1.2122 - val_accuracy: 0.7338\n",
      "Epoch 43/100\n",
      "20/20 [==============================] - 0s 4ms/step - loss: 0.1176 - accuracy: 0.9577 - val_loss: 1.2725 - val_accuracy: 0.7403\n",
      "Epoch 44/100\n",
      "20/20 [==============================] - 0s 6ms/step - loss: 0.0728 - accuracy: 0.9691 - val_loss: 1.6810 - val_accuracy: 0.7792\n",
      "Epoch 45/100\n",
      "20/20 [==============================] - 0s 4ms/step - loss: 0.0989 - accuracy: 0.9691 - val_loss: 1.3327 - val_accuracy: 0.7143\n",
      "Epoch 46/100\n",
      "20/20 [==============================] - 0s 4ms/step - loss: 0.0991 - accuracy: 0.9642 - val_loss: 1.6039 - val_accuracy: 0.7338\n",
      "Epoch 47/100\n",
      "20/20 [==============================] - 0s 4ms/step - loss: 0.1288 - accuracy: 0.9544 - val_loss: 1.2789 - val_accuracy: 0.6948\n",
      "Epoch 48/100\n",
      "20/20 [==============================] - 0s 4ms/step - loss: 0.0553 - accuracy: 0.9837 - val_loss: 2.1697 - val_accuracy: 0.6883\n",
      "Epoch 49/100\n",
      "20/20 [==============================] - 0s 4ms/step - loss: 0.0846 - accuracy: 0.9772 - val_loss: 1.5916 - val_accuracy: 0.7273\n",
      "Epoch 50/100\n",
      "20/20 [==============================] - 0s 4ms/step - loss: 0.0764 - accuracy: 0.9674 - val_loss: 1.3455 - val_accuracy: 0.7338\n",
      "Epoch 51/100\n",
      "20/20 [==============================] - 0s 4ms/step - loss: 0.0612 - accuracy: 0.9821 - val_loss: 1.7723 - val_accuracy: 0.7143\n",
      "Epoch 52/100\n",
      "20/20 [==============================] - 0s 4ms/step - loss: 0.0572 - accuracy: 0.9870 - val_loss: 1.7262 - val_accuracy: 0.7403\n",
      "Epoch 53/100\n",
      "20/20 [==============================] - 0s 4ms/step - loss: 0.0490 - accuracy: 0.9788 - val_loss: 2.0637 - val_accuracy: 0.7532\n",
      "Epoch 54/100\n",
      "20/20 [==============================] - 0s 4ms/step - loss: 0.0560 - accuracy: 0.9853 - val_loss: 2.2094 - val_accuracy: 0.7468\n",
      "Epoch 55/100\n",
      "20/20 [==============================] - 0s 3ms/step - loss: 0.0861 - accuracy: 0.9756 - val_loss: 1.7221 - val_accuracy: 0.7273\n",
      "Epoch 56/100\n",
      "20/20 [==============================] - 0s 4ms/step - loss: 0.0966 - accuracy: 0.9625 - val_loss: 1.4363 - val_accuracy: 0.6688\n",
      "Epoch 57/100\n",
      "20/20 [==============================] - 0s 4ms/step - loss: 0.0300 - accuracy: 0.9902 - val_loss: 2.0737 - val_accuracy: 0.7208\n",
      "Epoch 58/100\n",
      "20/20 [==============================] - 0s 4ms/step - loss: 0.0439 - accuracy: 0.9853 - val_loss: 2.0000 - val_accuracy: 0.7597\n",
      "Epoch 59/100\n",
      "20/20 [==============================] - 0s 4ms/step - loss: 0.0855 - accuracy: 0.9739 - val_loss: 1.7466 - val_accuracy: 0.7403\n",
      "Epoch 60/100\n",
      "20/20 [==============================] - 0s 4ms/step - loss: 0.0448 - accuracy: 0.9902 - val_loss: 2.0075 - val_accuracy: 0.7143\n",
      "Epoch 61/100\n",
      "20/20 [==============================] - 0s 3ms/step - loss: 0.0261 - accuracy: 0.9935 - val_loss: 2.3922 - val_accuracy: 0.7597\n",
      "Epoch 62/100\n",
      "20/20 [==============================] - 0s 3ms/step - loss: 0.0884 - accuracy: 0.9691 - val_loss: 1.8369 - val_accuracy: 0.7403\n",
      "Epoch 63/100\n",
      "20/20 [==============================] - 0s 4ms/step - loss: 0.0266 - accuracy: 0.9935 - val_loss: 2.0191 - val_accuracy: 0.7078\n",
      "Epoch 64/100\n",
      "20/20 [==============================] - 0s 4ms/step - loss: 0.0554 - accuracy: 0.9870 - val_loss: 2.2086 - val_accuracy: 0.7338\n",
      "Epoch 65/100\n",
      "20/20 [==============================] - 0s 4ms/step - loss: 0.0602 - accuracy: 0.9837 - val_loss: 1.7906 - val_accuracy: 0.7273\n",
      "Epoch 66/100\n",
      "20/20 [==============================] - 0s 4ms/step - loss: 0.0531 - accuracy: 0.9805 - val_loss: 1.9636 - val_accuracy: 0.7143\n",
      "Epoch 67/100\n",
      "20/20 [==============================] - 0s 4ms/step - loss: 0.0747 - accuracy: 0.9739 - val_loss: 1.7447 - val_accuracy: 0.7143\n",
      "Epoch 68/100\n",
      "20/20 [==============================] - 0s 4ms/step - loss: 0.0355 - accuracy: 0.9902 - val_loss: 2.0649 - val_accuracy: 0.7143\n",
      "Epoch 69/100\n",
      "20/20 [==============================] - 0s 4ms/step - loss: 0.0417 - accuracy: 0.9837 - val_loss: 2.3401 - val_accuracy: 0.7078\n",
      "Epoch 70/100\n",
      "20/20 [==============================] - 0s 4ms/step - loss: 0.0565 - accuracy: 0.9788 - val_loss: 2.0956 - val_accuracy: 0.7338\n",
      "Epoch 71/100\n",
      "20/20 [==============================] - 0s 4ms/step - loss: 0.0155 - accuracy: 0.9951 - val_loss: 2.5030 - val_accuracy: 0.7143\n",
      "Epoch 72/100\n",
      "20/20 [==============================] - 0s 4ms/step - loss: 0.0572 - accuracy: 0.9788 - val_loss: 2.7289 - val_accuracy: 0.7338\n",
      "Epoch 73/100\n",
      "20/20 [==============================] - 0s 4ms/step - loss: 0.0673 - accuracy: 0.9853 - val_loss: 2.3722 - val_accuracy: 0.7013\n",
      "Epoch 74/100\n",
      "20/20 [==============================] - 0s 4ms/step - loss: 0.0331 - accuracy: 0.9886 - val_loss: 2.7131 - val_accuracy: 0.7143\n",
      "Epoch 75/100\n",
      "20/20 [==============================] - 0s 3ms/step - loss: 0.0454 - accuracy: 0.9805 - val_loss: 2.1080 - val_accuracy: 0.7468\n",
      "Epoch 76/100\n",
      "20/20 [==============================] - 0s 4ms/step - loss: 0.0337 - accuracy: 0.9870 - val_loss: 2.7534 - val_accuracy: 0.7143\n",
      "Epoch 77/100\n",
      "20/20 [==============================] - 0s 4ms/step - loss: 0.0359 - accuracy: 0.9886 - val_loss: 2.8233 - val_accuracy: 0.7078\n",
      "Epoch 78/100\n",
      "20/20 [==============================] - 0s 4ms/step - loss: 0.0097 - accuracy: 0.9984 - val_loss: 3.1860 - val_accuracy: 0.7208\n",
      "Epoch 79/100\n",
      "20/20 [==============================] - 0s 4ms/step - loss: 0.0526 - accuracy: 0.9837 - val_loss: 2.6500 - val_accuracy: 0.6818\n",
      "Epoch 80/100\n",
      "20/20 [==============================] - 0s 4ms/step - loss: 0.0277 - accuracy: 0.9935 - val_loss: 2.4298 - val_accuracy: 0.7338\n",
      "Epoch 81/100\n",
      "20/20 [==============================] - 0s 4ms/step - loss: 0.0342 - accuracy: 0.9837 - val_loss: 2.6631 - val_accuracy: 0.7338\n",
      "Epoch 82/100\n",
      "20/20 [==============================] - 0s 4ms/step - loss: 0.0112 - accuracy: 0.9967 - val_loss: 3.1020 - val_accuracy: 0.7078\n",
      "Epoch 83/100\n",
      "20/20 [==============================] - 0s 3ms/step - loss: 0.0363 - accuracy: 0.9935 - val_loss: 2.4867 - val_accuracy: 0.6494\n",
      "Epoch 84/100\n",
      "20/20 [==============================] - 0s 4ms/step - loss: 0.0700 - accuracy: 0.9788 - val_loss: 1.8099 - val_accuracy: 0.7403\n",
      "Epoch 85/100\n",
      "20/20 [==============================] - 0s 3ms/step - loss: 0.0057 - accuracy: 1.0000 - val_loss: 2.4239 - val_accuracy: 0.7273\n",
      "Epoch 86/100\n",
      "20/20 [==============================] - 0s 4ms/step - loss: 0.0013 - accuracy: 1.0000 - val_loss: 3.0821 - val_accuracy: 0.7338\n",
      "Epoch 87/100\n",
      "20/20 [==============================] - 0s 4ms/step - loss: 0.0412 - accuracy: 0.9853 - val_loss: 2.4341 - val_accuracy: 0.7273\n",
      "Epoch 88/100\n",
      "20/20 [==============================] - 0s 4ms/step - loss: 0.0381 - accuracy: 0.9886 - val_loss: 2.1654 - val_accuracy: 0.7403\n",
      "Epoch 89/100\n",
      "20/20 [==============================] - 0s 4ms/step - loss: 0.0385 - accuracy: 0.9886 - val_loss: 2.2455 - val_accuracy: 0.7143\n",
      "Epoch 90/100\n",
      "20/20 [==============================] - 0s 4ms/step - loss: 0.0163 - accuracy: 0.9951 - val_loss: 2.5700 - val_accuracy: 0.7468\n",
      "Epoch 91/100\n",
      "20/20 [==============================] - 0s 4ms/step - loss: 0.0705 - accuracy: 0.9772 - val_loss: 2.1223 - val_accuracy: 0.7468\n",
      "Epoch 92/100\n",
      "20/20 [==============================] - 0s 5ms/step - loss: 0.0323 - accuracy: 0.9886 - val_loss: 2.1936 - val_accuracy: 0.7013\n",
      "Epoch 93/100\n",
      "20/20 [==============================] - 0s 4ms/step - loss: 0.0019 - accuracy: 1.0000 - val_loss: 2.6544 - val_accuracy: 0.7208\n",
      "Epoch 94/100\n",
      "20/20 [==============================] - 0s 4ms/step - loss: 0.0059 - accuracy: 0.9984 - val_loss: 3.0893 - val_accuracy: 0.7273\n",
      "Epoch 95/100\n",
      "20/20 [==============================] - 0s 4ms/step - loss: 0.0457 - accuracy: 0.9870 - val_loss: 2.5939 - val_accuracy: 0.7468\n",
      "Epoch 96/100\n",
      "20/20 [==============================] - 0s 4ms/step - loss: 0.0041 - accuracy: 0.9984 - val_loss: 3.2511 - val_accuracy: 0.6948\n",
      "Epoch 97/100\n",
      "20/20 [==============================] - 0s 4ms/step - loss: 0.0519 - accuracy: 0.9853 - val_loss: 2.4264 - val_accuracy: 0.7338\n",
      "Epoch 98/100\n",
      "20/20 [==============================] - 0s 5ms/step - loss: 0.0105 - accuracy: 0.9967 - val_loss: 2.8602 - val_accuracy: 0.7597\n",
      "Epoch 99/100\n",
      "20/20 [==============================] - 0s 4ms/step - loss: 0.0108 - accuracy: 0.9984 - val_loss: 3.1953 - val_accuracy: 0.7468\n",
      "Epoch 100/100\n",
      "20/20 [==============================] - 0s 4ms/step - loss: 0.0152 - accuracy: 0.9951 - val_loss: 2.6983 - val_accuracy: 0.7338\n"
     ]
    },
    {
     "data": {
      "text/plain": [
       "<keras.src.callbacks.History at 0x202e7eb00d0>"
      ]
     },
     "execution_count": 79,
     "metadata": {},
     "output_type": "execute_result"
    }
   ],
   "source": [
    "model.fit(X_train,y_train, batch_size=32, epochs =100,initial_epoch=6, validation_data=(X_test,y_test))\n"
   ]
  },
  {
   "cell_type": "code",
   "execution_count": 80,
   "id": "cd367d61-d9ad-4868-b68c-dcce5990bf1e",
   "metadata": {},
   "outputs": [
    {
     "ename": "SyntaxError",
     "evalue": "invalid syntax (4063525911.py, line 11)",
     "output_type": "error",
     "traceback": [
      "\u001b[1;36m  Cell \u001b[1;32mIn[80], line 11\u001b[1;36m\u001b[0m\n\u001b[1;33m    counter+=1\u001b[0m\n\u001b[1;37m    ^\u001b[0m\n\u001b[1;31mSyntaxError\u001b[0m\u001b[1;31m:\u001b[0m invalid syntax\n"
     ]
    }
   ],
   "source": [
    "def build_model(hp):\n",
    "    model = Sequential()\n",
    "    counter =0\n",
    "    units = np.Int('')\n",
    "    for i in range(hp.Int('num_layers'),min_value=1,max_value=10):\n",
    "        if counter ==0:\n",
    "            model.add(Dense(hp.Int('units'+str(i),min_value=8, max_value=128, step=8,\n",
    "                                   activation=hp.Choice('activation'+str(i), values=['relu','tanh','sigmoid'])\n",
    "                                  )\n",
    "                           )\n",
    "                      else:\n",
    "            model"
   ]
  },
  {
   "cell_type": "code",
   "execution_count": null,
   "id": "88fb630d-3f64-4f45-80d1-9374f81133f4",
   "metadata": {},
   "outputs": [],
   "source": []
  }
 ],
 "metadata": {
  "kernelspec": {
   "display_name": "Python 3 (ipykernel)",
   "language": "python",
   "name": "python3"
  },
  "language_info": {
   "codemirror_mode": {
    "name": "ipython",
    "version": 3
   },
   "file_extension": ".py",
   "mimetype": "text/x-python",
   "name": "python",
   "nbconvert_exporter": "python",
   "pygments_lexer": "ipython3",
   "version": "3.8.0"
  }
 },
 "nbformat": 4,
 "nbformat_minor": 5
}
