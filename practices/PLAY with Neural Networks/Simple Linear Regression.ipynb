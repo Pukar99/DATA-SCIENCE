{
 "cells": [
  {
   "cell_type": "markdown",
   "id": "103676a5-7195-492e-be98-5f56dd1e5dc2",
   "metadata": {},
   "source": [
    "### Import the relevent library"
   ]
  },
  {
   "cell_type": "code",
   "execution_count": 2,
   "id": "59964455-0d79-417a-97c0-55e8ca448359",
   "metadata": {},
   "outputs": [],
   "source": [
    "import numpy as np\n",
    "import matplotlib.pyplot as plt\n",
    "from mpl_toolkits.mplot3d import Axes3D\n"
   ]
  },
  {
   "cell_type": "markdown",
   "id": "106c1067-2087-4352-942e-2da2e4a19e66",
   "metadata": {},
   "source": [
    "### Generate the random input data to train data"
   ]
  },
  {
   "cell_type": "code",
   "execution_count": 29,
   "id": "47561995-d7d2-4b53-97b4-59dd9abfc5bc",
   "metadata": {},
   "outputs": [],
   "source": [
    "observations =1000\n",
    "xs = np.random.uniform(low=-10,high=10,size=(observations,1))\n",
    "zs = np.random.uniform(-10,10,(observations,1))\n",
    "inputs = np.column_stack((xs,zs))"
   ]
  },
  {
   "cell_type": "code",
   "execution_count": 30,
   "id": "f050feca-46d1-4a92-9532-2fca0bebe7cf",
   "metadata": {},
   "outputs": [
    {
     "data": {
      "text/plain": [
       "(1000, 2)"
      ]
     },
     "execution_count": 30,
     "metadata": {},
     "output_type": "execute_result"
    }
   ],
   "source": [
    "inputs.shape"
   ]
  },
  {
   "cell_type": "markdown",
   "id": "069fd802-f283-4db5-bb05-805455adeefa",
   "metadata": {},
   "source": [
    "### Create noise and targets to aim"
   ]
  },
  {
   "cell_type": "code",
   "execution_count": 31,
   "id": "983fd00a-eee6-4f8b-8701-cec2eada239a",
   "metadata": {},
   "outputs": [],
   "source": [
    "noise = np.random.uniform(-1, 1, (observations, 1))\n",
    "target = 2 * xs - 3 * zs + 5 + noise"
   ]
  },
  {
   "cell_type": "markdown",
   "id": "32e17acd-fe59-4467-9d98-440601496a09",
   "metadata": {},
   "source": [
    "### Initilize variables"
   ]
  },
  {
   "cell_type": "code",
   "execution_count": 32,
   "id": "039d401e-47a5-4eea-a62f-b59b9d3140c4",
   "metadata": {},
   "outputs": [],
   "source": [
    "init_range = 0.1\n",
    "weights = np.random.uniform(-init_range,init_range,size=(2,1))"
   ]
  },
  {
   "cell_type": "code",
   "execution_count": 33,
   "id": "83f8dcf8-b12c-4a26-ab3e-e943152fb5be",
   "metadata": {},
   "outputs": [],
   "source": [
    "biases = np.random.uniform(-init_range,init_range,size=1)"
   ]
  },
  {
   "cell_type": "code",
   "execution_count": 34,
   "id": "422f6540-533e-4be7-b1d9-11a51fde8ac6",
   "metadata": {},
   "outputs": [
    {
     "data": {
      "text/plain": [
       "(2, 1)"
      ]
     },
     "execution_count": 34,
     "metadata": {},
     "output_type": "execute_result"
    }
   ],
   "source": [
    "weights.shape"
   ]
  },
  {
   "cell_type": "code",
   "execution_count": 35,
   "id": "e409e4e7-8918-4bd8-8411-b3ec23d5bdae",
   "metadata": {},
   "outputs": [
    {
     "data": {
      "text/plain": [
       "array([[0.03557129],\n",
       "       [0.0625289 ]])"
      ]
     },
     "execution_count": 35,
     "metadata": {},
     "output_type": "execute_result"
    }
   ],
   "source": [
    "weights"
   ]
  },
  {
   "cell_type": "code",
   "execution_count": 36,
   "id": "f07677ad-e2fe-43ea-8eb0-6e26b0dface4",
   "metadata": {},
   "outputs": [],
   "source": [
    "learning_rate =0.02"
   ]
  },
  {
   "cell_type": "markdown",
   "id": "b2c1c644-15a1-46d7-9948-9b7bdc1f420d",
   "metadata": {},
   "source": [
    "### Train the model "
   ]
  },
  {
   "cell_type": "code",
   "execution_count": 45,
   "id": "beaa921c-6e55-4228-85b5-7df8b88412f9",
   "metadata": {},
   "outputs": [
    {
     "name": "stdout",
     "output_type": "stream",
     "text": [
      "0.16862495488013896\n",
      "0.16862495486558432\n",
      "0.1686249548516052\n",
      "0.168624954838179\n",
      "0.16862495482528367\n",
      "0.16862495481289846\n",
      "0.168624954801003\n",
      "0.16862495478957812\n",
      "0.1686249547786049\n",
      "0.16862495476806572\n",
      "0.16862495475794334\n",
      "0.16862495474822134\n",
      "0.1686249547388837\n",
      "0.1686249547299154\n",
      "0.16862495472130185\n",
      "0.16862495471302885\n",
      "0.16862495470508307\n",
      "0.16862495469745153\n",
      "0.16862495469012187\n",
      "0.168624954683082\n",
      "0.1686249546763206\n",
      "0.16862495466982655\n",
      "0.16862495466358934\n",
      "0.16862495465759883\n",
      "0.1686249546518452\n",
      "0.1686249546463191\n",
      "0.1686249546410117\n",
      "0.16862495463591404\n",
      "0.16862495463101804\n",
      "0.1686249546263156\n",
      "0.16862495462179924\n",
      "0.1686249546174614\n",
      "0.16862495461329513\n",
      "0.16862495460929378\n",
      "0.16862495460545046\n",
      "0.16862495460175925\n",
      "0.168624954598214\n",
      "0.16862495459480892\n",
      "0.1686249545915386\n",
      "0.1686249545883975\n",
      "0.16862495458538068\n",
      "0.16862495458248317\n",
      "0.16862495457970034\n",
      "0.16862495457702736\n",
      "0.16862495457446033\n",
      "0.16862495457199458\n",
      "0.16862495456962656\n",
      "0.16862495456735213\n",
      "0.16862495456516757\n",
      "0.16862495456306942\n",
      "0.16862495456105434\n",
      "0.16862495455911883\n",
      "0.16862495455725998\n",
      "0.16862495455547452\n",
      "0.16862495455375984\n",
      "0.16862495455211285\n",
      "0.16862495455053092\n",
      "0.16862495454901177\n",
      "0.16862495454755252\n",
      "0.16862495454615106\n",
      "0.168624954544805\n",
      "0.16862495454351226\n",
      "0.16862495454227058\n",
      "0.16862495454107787\n",
      "0.16862495453993256\n",
      "0.16862495453883242\n",
      "0.16862495453777585\n",
      "0.16862495453676093\n",
      "0.16862495453578635\n",
      "0.16862495453485019\n",
      "0.16862495453395104\n",
      "0.16862495453308748\n",
      "0.16862495453225806\n",
      "0.16862495453146148\n",
      "0.16862495453069637\n",
      "0.16862495452996157\n",
      "0.16862495452925572\n",
      "0.16862495452857792\n",
      "0.16862495452792692\n",
      "0.1686249545273015\n",
      "0.16862495452670095\n",
      "0.16862495452612408\n",
      "0.16862495452557008\n",
      "0.16862495452503795\n",
      "0.16862495452452694\n",
      "0.16862495452403606\n",
      "0.16862495452356463\n",
      "0.1686249545231118\n",
      "0.16862495452267692\n",
      "0.16862495452225926\n",
      "0.16862495452185805\n",
      "0.16862495452147283\n",
      "0.16862495452110274\n",
      "0.1686249545207473\n",
      "0.168624954520406\n",
      "0.16862495452007806\n",
      "0.16862495451976317\n",
      "0.1686249545194607\n",
      "0.16862495451917028\n",
      "0.16862495451889117\n"
     ]
    }
   ],
   "source": [
    "for i in range(100):\n",
    "    outputs = np.dot(inputs,weights)+biases\n",
    "    deltas = outputs-target\n",
    "    loss = np.sum(deltas**2)/2/observations\n",
    "    print(loss)\n",
    "    deltas_scaled = deltas/observations\n",
    "    weights = weights - learning_rate*np.dot(inputs.T,deltas_scaled)\n",
    "    biases = biases - learning_rate*np.sum(deltas_scaled)\n",
    "    "
   ]
  },
  {
   "cell_type": "code",
   "execution_count": 46,
   "id": "f896c49b-76db-4b59-8736-b644305442ec",
   "metadata": {},
   "outputs": [
    {
     "name": "stdout",
     "output_type": "stream",
     "text": [
      "[[ 2.00180053]\n",
      " [-2.9957296 ]]\n",
      "[4.97331234]\n"
     ]
    }
   ],
   "source": [
    "print(weights)\n",
    "print(biases)"
   ]
  },
  {
   "cell_type": "code",
   "execution_count": null,
   "id": "a53ffba4-36f3-4289-b855-88a741a86d99",
   "metadata": {},
   "outputs": [],
   "source": []
  }
 ],
 "metadata": {
  "kernelspec": {
   "display_name": "Python 3 (ipykernel)",
   "language": "python",
   "name": "python3"
  },
  "language_info": {
   "codemirror_mode": {
    "name": "ipython",
    "version": 3
   },
   "file_extension": ".py",
   "mimetype": "text/x-python",
   "name": "python",
   "nbconvert_exporter": "python",
   "pygments_lexer": "ipython3",
   "version": "3.8.0"
  }
 },
 "nbformat": 4,
 "nbformat_minor": 5
}
