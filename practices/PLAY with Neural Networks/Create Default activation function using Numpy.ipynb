{
 "cells": [
  {
   "cell_type": "code",
   "execution_count": 1,
   "id": "d3c6ce8b-142d-4934-a5fa-5fc0c5ef9b14",
   "metadata": {},
   "outputs": [],
   "source": [
    "import numpy as np\n"
   ]
  },
  {
   "cell_type": "code",
   "execution_count": 46,
   "id": "910d46d7-8013-4312-acab-261685ee9dab",
   "metadata": {},
   "outputs": [],
   "source": [
    "class ActivationFunctions:\n",
    "    \n",
    "    #for sigmoid and its derivatives\n",
    "    \n",
    "    @staticmethod\n",
    "    def sigmoid(x):\n",
    "        return 1/(1+np.exp(-x))\n",
    "    @staticmethod\n",
    "    def sigmoid_derivative(x):\n",
    "        return ActicationFunctions.sigmoid(x)*(1-ActicationFunctions.sigmoid(x))\n",
    "        \n",
    "    # for relu and its derivatives\n",
    "    \n",
    "    @staticmethod\n",
    "    def relu(x):\n",
    "        return np.maximum(0,x)\n",
    "    @staticmethod\n",
    "    def relu_d(x):\n",
    "        return np.where(np.maximum(0,x)>0,1,0)\n",
    "    # for relu and its derivatives\n",
    "    \n",
    "    @staticmethod\n",
    "    def tanh(x):\n",
    "        return (np.exp(x)-np.exp(-x))/(np.exp(x)+np.exp(-x))\n",
    "    "
   ]
  },
  {
   "cell_type": "code",
   "execution_count": 42,
   "id": "e39fa41a-f366-4fc2-a3be-8013807b6e79",
   "metadata": {},
   "outputs": [],
   "source": [
    "af = ActivationFunctions()"
   ]
  },
  {
   "cell_type": "code",
   "execution_count": 43,
   "id": "cf25fac6-962c-44c3-8d3f-c8bbb4042446",
   "metadata": {},
   "outputs": [],
   "source": [
    "c= af.sigmoid(2)"
   ]
  },
  {
   "cell_type": "code",
   "execution_count": 44,
   "id": "0b2bee8c-6f59-4a30-8c65-626ea0b40911",
   "metadata": {},
   "outputs": [
    {
     "data": {
      "text/plain": [
       "0.8807970779778823"
      ]
     },
     "execution_count": 44,
     "metadata": {},
     "output_type": "execute_result"
    }
   ],
   "source": [
    "c"
   ]
  },
  {
   "cell_type": "markdown",
   "id": "ff4dbe59-cc53-41a2-8d13-c97173ceebec",
   "metadata": {},
   "source": [
    "### Activation function testing "
   ]
  },
  {
   "cell_type": "code",
   "execution_count": 40,
   "id": "f18cdc9a-28d2-42b4-8408-571a1e457fa4",
   "metadata": {},
   "outputs": [
    {
     "name": "stdin",
     "output_type": "stream",
     "text": [
      "Enter the value for which you want :  33\n"
     ]
    },
    {
     "name": "stdout",
     "output_type": "stream",
     "text": [
      "sigmoid derivation  4.662936703425635e-15\n",
      "sigmoid 0.9999999999999953\n"
     ]
    }
   ],
   "source": [
    "x = int(input(\"Enter the value for which you want : \"))\n",
    "b= af.sigmoid_derivative(x)\n",
    "a= af.sigmoid(x)\n",
    "print(\"sigmoid derivation \",b)\n",
    "print(\"sigmoid\",a)"
   ]
  },
  {
   "cell_type": "code",
   "execution_count": 45,
   "id": "b9f8d600-48d3-47e9-87da-dc98eddd256f",
   "metadata": {},
   "outputs": [
    {
     "name": "stdin",
     "output_type": "stream",
     "text": [
      "Enter the value for which you want :  1\n"
     ]
    },
    {
     "name": "stdout",
     "output_type": "stream",
     "text": [
      "relu derivation  1\n",
      "relu 1\n"
     ]
    }
   ],
   "source": [
    "x = int(input(\"Enter the value for which you want : \"))\n",
    "b= af.relu(x)\n",
    "a= af.relu_d(x)\n",
    "print(\"relu derivation \",b)\n",
    "print(\"relu\",a)"
   ]
  },
  {
   "cell_type": "code",
   "execution_count": null,
   "id": "40e90100-37ae-4720-89d3-690adbf1f350",
   "metadata": {},
   "outputs": [],
   "source": []
  }
 ],
 "metadata": {
  "kernelspec": {
   "display_name": "Python 3 (ipykernel)",
   "language": "python",
   "name": "python3"
  },
  "language_info": {
   "codemirror_mode": {
    "name": "ipython",
    "version": 3
   },
   "file_extension": ".py",
   "mimetype": "text/x-python",
   "name": "python",
   "nbconvert_exporter": "python",
   "pygments_lexer": "ipython3",
   "version": "3.8.0"
  }
 },
 "nbformat": 4,
 "nbformat_minor": 5
}
