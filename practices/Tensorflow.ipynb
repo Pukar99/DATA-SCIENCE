{
 "cells": [
  {
   "cell_type": "code",
   "execution_count": 1,
   "id": "b49b70fa-f509-4797-9c99-e5cce472fb4f",
   "metadata": {},
   "outputs": [],
   "source": [
    "### importing the necessary libraries\n"
   ]
  },
  {
   "cell_type": "code",
   "execution_count": 3,
   "id": "8f357d21-8c31-413b-9ec4-5d3a82d6b5d2",
   "metadata": {},
   "outputs": [],
   "source": [
    "import numpy as np\n",
    "import matplotlib.pyplot as plt\n",
    "import tensorflow as tf"
   ]
  },
  {
   "cell_type": "code",
   "execution_count": 4,
   "id": "5d68c29d-f160-4e54-ba87-b4dd8ce32475",
   "metadata": {},
   "outputs": [],
   "source": [
    "### Data generation "
   ]
  },
  {
   "cell_type": "code",
   "execution_count": 11,
   "id": "29faa505-65d7-47a2-a16e-9d0ad6b5d02a",
   "metadata": {},
   "outputs": [],
   "source": [
    "observations =1000\n",
    "xs = np.random.uniform(low =-10, high =10,size=(observations,1))\n",
    "zs = np.random.uniform(-10,10,(observations,1))\n",
    "generated_inputs = np.column_stack((xs,zs))\n",
    "noise = np.random.uniform(-1,1,(observations,1))\n",
    "generated_targets = 2*xs-3*zs+5+noise\n",
    "np.savez('TZ_intro', inputs= generated_inputs, targets =generated_targets)"
   ]
  },
  {
   "cell_type": "code",
   "execution_count": 13,
   "id": "ec8c6805-b865-4172-803e-771b99d3a1a2",
   "metadata": {},
   "outputs": [],
   "source": [
    "### Solving with the Tensorflow "
   ]
  },
  {
   "cell_type": "code",
   "execution_count": 14,
   "id": "d7cc6018-7766-426d-98fe-9ae60e66ee5c",
   "metadata": {},
   "outputs": [],
   "source": [
    "input_size =2\n",
    "output_size =1"
   ]
  },
  {
   "cell_type": "code",
   "execution_count": 15,
   "id": "ff42e25e-6e1c-4fe9-a3ac-be5f5281959f",
   "metadata": {},
   "outputs": [],
   "source": [
    "### Outlining the model"
   ]
  },
  {
   "cell_type": "code",
   "execution_count": 30,
   "id": "6a26464d-c40a-4037-8680-181d2f5dda4b",
   "metadata": {},
   "outputs": [
    {
     "ename": "AttributeError",
     "evalue": "module 'tensorflow' has no attribute 'placeholder'",
     "output_type": "error",
     "traceback": [
      "\u001b[1;31m---------------------------------------------------------------------------\u001b[0m",
      "\u001b[1;31mAttributeError\u001b[0m                            Traceback (most recent call last)",
      "Cell \u001b[1;32mIn[30], line 1\u001b[0m\n\u001b[1;32m----> 1\u001b[0m inputs \u001b[38;5;241m=\u001b[39m \u001b[43mtf\u001b[49m\u001b[38;5;241;43m.\u001b[39;49m\u001b[43mplaceholder\u001b[49m(tf\u001b[38;5;241m.\u001b[39mfloat32, [\u001b[38;5;28;01mNone\u001b[39;00m, input_size])\n",
      "\u001b[1;31mAttributeError\u001b[0m: module 'tensorflow' has no attribute 'placeholder'"
     ]
    }
   ],
   "source": [
    "inputs = tf.placeholder(tf.float32, [None, input_size])"
   ]
  },
  {
   "cell_type": "code",
   "execution_count": null,
   "id": "2ae0665d-bad1-421f-94b2-5b648e1a3172",
   "metadata": {},
   "outputs": [],
   "source": []
  }
 ],
 "metadata": {
  "kernelspec": {
   "display_name": "Python 3 (ipykernel)",
   "language": "python",
   "name": "python3"
  },
  "language_info": {
   "codemirror_mode": {
    "name": "ipython",
    "version": 3
   },
   "file_extension": ".py",
   "mimetype": "text/x-python",
   "name": "python",
   "nbconvert_exporter": "python",
   "pygments_lexer": "ipython3",
   "version": "3.8.0"
  }
 },
 "nbformat": 4,
 "nbformat_minor": 5
}
