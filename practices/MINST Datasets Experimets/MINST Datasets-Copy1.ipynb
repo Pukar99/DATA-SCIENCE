{
 "cells": [
  {
   "cell_type": "markdown",
   "id": "1cce587e-5c5b-4047-bc43-8c609c1690ab",
   "metadata": {},
   "source": [
    "### Importing the necessaries libraries"
   ]
  },
  {
   "cell_type": "code",
   "execution_count": 28,
   "id": "bd249875-9a1e-4ad2-a538-b430902ff4e3",
   "metadata": {},
   "outputs": [],
   "source": [
    "import tensorflow as tf\n",
    "from tensorflow.keras import layers, models\n",
    "from tensorflow.keras.datasets import mnist"
   ]
  },
  {
   "cell_type": "code",
   "execution_count": 38,
   "id": "b6496134-20fb-4946-837e-bbc52dcfe119",
   "metadata": {},
   "outputs": [],
   "source": [
    "(x_train, y_train), (x_test, y_test) = mnist.load_data()\n",
    "x_train, x_test = x_train, x_test \n",
    "# x_train, x_test = x_train / 255.0, x_test / 255.0\n"
   ]
  },
  {
   "cell_type": "markdown",
   "id": "ec8b58d1-453f-4207-9731-77d42f89022d",
   "metadata": {},
   "source": [
    "Here, we load the MNIST dataset and split it into training and testing sets.\n",
    "The dataset consists of images (x_train and x_test) and labels (y_train and y_test).\n",
    "We scale the pixel values of the images to be between 0 and 1 by dividing by 255.0. This normalization helps in training the neural network."
   ]
  },
  {
   "cell_type": "code",
   "execution_count": 39,
   "id": "104b89da-f08d-48e1-93e0-14045726026c",
   "metadata": {},
   "outputs": [],
   "source": [
    "model = models.Sequential([\n",
    "    layers.Flatten(input_shape=(28, 28)),  \n",
    "    layers.Dense(128, activation='tanh'),  \n",
    "    layers.Dropout(0.2),  \n",
    "    layers.Dense(10, activation='relu')  \n",
    "])"
   ]
  },
  {
   "cell_type": "markdown",
   "id": "f369380e-5acb-4f2b-ac6b-700807dd9561",
   "metadata": {},
   "source": [
    "We define the neural network model using the Sequential API provided by Keras.\n",
    "The model consists of a sequence of layers. The Flatten layer converts the 2D input (28x28 images) into a 1D array.\n",
    "Then, we add a Dense layer with 128 neurons and ReLU activation function. This layer is fully connected to the previous layer.\n",
    "We also add a Dropout layer with a dropout rate of 0.2. Dropout is a regularization technique used to prevent overfitting by randomly setting a fraction of input units to 0 during training.\n",
    "Finally, we add another Dense layer with 10 neurons (equal to the number of classes in the dataset) and softmax activation function. This layer outputs the probability distribution over the 10 classes."
   ]
  },
  {
   "cell_type": "code",
   "execution_count": 40,
   "id": "dfa24f77-04e2-4b1c-a776-5c0bea1aa05d",
   "metadata": {},
   "outputs": [],
   "source": [
    "model.compile(optimizer='adam',\n",
    "              loss='sparse_categorical_crossentropy',\n",
    "              metrics=['accuracy'])\n"
   ]
  },
  {
   "cell_type": "markdown",
   "id": "63721d73-b905-4813-904c-0512d5549559",
   "metadata": {},
   "source": [
    "We compile the model with an optimizer, loss function, and metrics.\n",
    "The optimizer adam is an efficient optimization algorithm for training neural networks.\n",
    "The loss function sparse_categorical_crossentropy is suitable for multi-class classification problems.\n",
    "We monitor the training and validation accuracy during training."
   ]
  },
  {
   "cell_type": "code",
   "execution_count": 41,
   "id": "c7cff4ca-6a5b-441c-b38c-49b81f01c002",
   "metadata": {},
   "outputs": [
    {
     "name": "stdout",
     "output_type": "stream",
     "text": [
      "1875/1875 [==============================] - 6s 3ms/step - loss: 2.3971 - accuracy: 0.1007 - val_loss: 2.3014 - val_accuracy: 0.0985\n"
     ]
    },
    {
     "data": {
      "text/plain": [
       "<keras.src.callbacks.History at 0x2484814c2e0>"
      ]
     },
     "execution_count": 41,
     "metadata": {},
     "output_type": "execute_result"
    }
   ],
   "source": [
    "model.fit(x_train, y_train, epochs=1, validation_data=(x_test, y_test))\n"
   ]
  },
  {
   "cell_type": "markdown",
   "id": "ff15e5d5-ff34-4ac5-a233-3c0ce8cd142f",
   "metadata": {},
   "source": [
    "We train the model using the fit method.\n",
    "We pass the training data (x_train and y_train), specify the number of epochs (iterations over the entire training dataset), and provide the validation data (x_test and y_test) to evaluate the model's performance on unseen data."
   ]
  },
  {
   "cell_type": "code",
   "execution_count": 42,
   "id": "55b025de-e955-4ec8-bab2-5addd07f173f",
   "metadata": {},
   "outputs": [
    {
     "name": "stdout",
     "output_type": "stream",
     "text": [
      "313/313 [==============================] - 1s 2ms/step - loss: 2.3014 - accuracy: 0.0985\n",
      "Test accuracy: 0.09849999845027924\n"
     ]
    }
   ],
   "source": [
    "test_loss, test_acc = model.evaluate(x_test, y_test)\n",
    "print('Test accuracy:', test_acc)\n"
   ]
  },
  {
   "cell_type": "markdown",
   "id": "f43b65a5-046a-4fef-a143-980384d5d4c4",
   "metadata": {},
   "source": [
    "After training, we evaluate the model on the test data using the evaluate method.\n",
    "We print the test accuracy, which indicates how well the model performs on unseen data."
   ]
  },
  {
   "cell_type": "code",
   "execution_count": 43,
   "id": "6ad45c3e-e836-4afe-ba41-e593b1882b23",
   "metadata": {},
   "outputs": [
    {
     "name": "stdout",
     "output_type": "stream",
     "text": [
      "313/313 [==============================] - 1s 1ms/step\n",
      "Predictions: [0 0 0 ... 0 0 0]\n",
      "Actual Labels: [7 2 1 ... 4 5 6]\n"
     ]
    }
   ],
   "source": [
    "predictions = model.predict(x_test)\n",
    "print('Predictions:', predictions.argmax(axis=1))\n",
    "print('Actual Labels:', y_test)\n"
   ]
  },
  {
   "cell_type": "markdown",
   "id": "bfdac8ee-220c-4360-a8d2-384cdbb69cc6",
   "metadata": {},
   "source": [
    "Finally, we make predictions on the first 5 test samples using the trained model.\n",
    "We print the predicted labels and compare them with the actual labels.\n",
    "\n",
    "\n"
   ]
  },
  {
   "cell_type": "code",
   "execution_count": null,
   "id": "9cb5b24d-1cf3-4d61-980e-f8d43fd56053",
   "metadata": {},
   "outputs": [],
   "source": []
  }
 ],
 "metadata": {
  "kernelspec": {
   "display_name": "Python 3 (ipykernel)",
   "language": "python",
   "name": "python3"
  },
  "language_info": {
   "codemirror_mode": {
    "name": "ipython",
    "version": 3
   },
   "file_extension": ".py",
   "mimetype": "text/x-python",
   "name": "python",
   "nbconvert_exporter": "python",
   "pygments_lexer": "ipython3",
   "version": "3.8.0"
  }
 },
 "nbformat": 4,
 "nbformat_minor": 5
}
